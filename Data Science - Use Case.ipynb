{
 "cells": [
  {
   "cell_type": "markdown",
   "metadata": {},
   "source": [
    "## Different things tried to solve the problem at hand -\n",
    "1. Built Random Forest models to get Top 10 variables\n",
    "2. vif to address multicollinearity issue\n",
    "3. Built Logistic Regression and XGBoost models as alternatives to Random Forest model\n",
    "4. Performed oversampling using SMOTE technique\n",
    "5. Compared the results before and after SMOTE and passed the important variables from Random Forest to a new Logistic Regression model in order to explain their impact on the output variable"
   ]
  },
  {
   "cell_type": "code",
   "execution_count": 1,
   "metadata": {},
   "outputs": [],
   "source": [
    "%load_ext autoreload\n",
    "%autoreload 2\n",
    "%matplotlib inline"
   ]
  },
  {
   "cell_type": "code",
   "execution_count": 2,
   "metadata": {},
   "outputs": [],
   "source": [
    "import pyodbc\n",
    "import pandas as pd\n",
    "import numpy as np\n",
    "import IPython.display\n",
    "import os\n",
    "import sys\n",
    "import mgrs\n",
    "import matplotlib.pyplot as plt\n",
    "import seaborn as sns"
   ]
  },
  {
   "cell_type": "code",
   "execution_count": 204,
   "metadata": {},
   "outputs": [],
   "source": [
    "from sklearn.model_selection import train_test_split\n",
    "from sklearn.ensemble import (RandomForestRegressor, ExtraTreesRegressor, GradientBoostingRegressor,\n",
    "RandomForestClassifier, ExtraTreesClassifier, GradientBoostingClassifier, AdaBoostClassifier)\n",
    "from sklearn import linear_model\n",
    "from sklearn.linear_model import LogisticRegression\n",
    "from sklearn.metrics import mean_squared_error\n",
    "from sklearn import metrics\n",
    "from sklearn.feature_selection import SelectFromModel\n",
    "import statsmodels.api as sm\n",
    "from sklearn.pipeline import Pipeline\n",
    "from sklearn.preprocessing import StandardScaler, LabelEncoder, OneHotEncoder\n",
    "from sklearn.model_selection import cross_val_score, RandomizedSearchCV, GridSearchCV\n",
    "from sklearn.feature_extraction import DictVectorizer\n",
    "import xgboost as xgb\n",
    "from sklearn.metrics import log_loss\n",
    "from IPython.display import display\n",
    "from sklearn.cluster import KMeans\n",
    "from sklearn.metrics import r2_score, mean_squared_error, accuracy_score, classification_report, confusion_matrix\n",
    "from imblearn.over_sampling import SMOTE\n",
    "from sklearn.feature_selection import RFE\n",
    "import statsmodels.api as sm"
   ]
  },
  {
   "cell_type": "code",
   "execution_count": 4,
   "metadata": {},
   "outputs": [],
   "source": [
    "def display_all(df):\n",
    "    with pd.option_context(\"display.max_columns\", 5000):\n",
    "        with pd.option_context(\"display.max_rows\", 5000):\n",
    "            display(df)"
   ]
  },
  {
   "cell_type": "code",
   "execution_count": 5,
   "metadata": {},
   "outputs": [],
   "source": [
    "path = \"C:/Users/ps063n/Desktop/Parag/General/DataScienceProblem/\""
   ]
  },
  {
   "cell_type": "code",
   "execution_count": 6,
   "metadata": {},
   "outputs": [],
   "source": [
    "df = pd.read_csv(f\"{path}data.csv\")"
   ]
  },
  {
   "cell_type": "code",
   "execution_count": 7,
   "metadata": {
    "scrolled": true
   },
   "outputs": [
    {
     "data": {
      "text/html": [
       "<div>\n",
       "<style scoped>\n",
       "    .dataframe tbody tr th:only-of-type {\n",
       "        vertical-align: middle;\n",
       "    }\n",
       "\n",
       "    .dataframe tbody tr th {\n",
       "        vertical-align: top;\n",
       "    }\n",
       "\n",
       "    .dataframe thead th {\n",
       "        text-align: right;\n",
       "    }\n",
       "</style>\n",
       "<table border=\"1\" class=\"dataframe\">\n",
       "  <thead>\n",
       "    <tr style=\"text-align: right;\">\n",
       "      <th></th>\n",
       "      <th>V1</th>\n",
       "      <th>V2</th>\n",
       "      <th>V3</th>\n",
       "      <th>V4</th>\n",
       "      <th>V5</th>\n",
       "      <th>V6</th>\n",
       "      <th>V7</th>\n",
       "      <th>V8</th>\n",
       "      <th>V9</th>\n",
       "      <th>V10</th>\n",
       "      <th>V11</th>\n",
       "      <th>V12</th>\n",
       "      <th>V13</th>\n",
       "      <th>V14</th>\n",
       "      <th>V15</th>\n",
       "      <th>V16</th>\n",
       "      <th>V17</th>\n",
       "      <th>V18</th>\n",
       "      <th>V19</th>\n",
       "      <th>V20</th>\n",
       "      <th>V21</th>\n",
       "      <th>V22</th>\n",
       "      <th>V23</th>\n",
       "      <th>V24</th>\n",
       "      <th>V25</th>\n",
       "      <th>V26</th>\n",
       "      <th>V27</th>\n",
       "      <th>V28</th>\n",
       "      <th>V29</th>\n",
       "      <th>V30</th>\n",
       "      <th>R</th>\n",
       "    </tr>\n",
       "  </thead>\n",
       "  <tbody>\n",
       "    <tr>\n",
       "      <th>0</th>\n",
       "      <td>1.0</td>\n",
       "      <td>1</td>\n",
       "      <td>0</td>\n",
       "      <td>1</td>\n",
       "      <td>1.0</td>\n",
       "      <td>0</td>\n",
       "      <td>1</td>\n",
       "      <td>1.0</td>\n",
       "      <td>0</td>\n",
       "      <td>1</td>\n",
       "      <td>3.634869</td>\n",
       "      <td>-0.401135</td>\n",
       "      <td>7.298843</td>\n",
       "      <td>2.299257</td>\n",
       "      <td>-0.433587</td>\n",
       "      <td>4.838273</td>\n",
       "      <td>NaN</td>\n",
       "      <td>-1.354651</td>\n",
       "      <td>4.349899</td>\n",
       "      <td>1.068831</td>\n",
       "      <td>-0.995826</td>\n",
       "      <td>2.669044</td>\n",
       "      <td>1.332046</td>\n",
       "      <td>-0.383623</td>\n",
       "      <td>58.203268</td>\n",
       "      <td>2.516582</td>\n",
       "      <td>-0.063320</td>\n",
       "      <td>47.187762</td>\n",
       "      <td>0.050729</td>\n",
       "      <td>-3.556211</td>\n",
       "      <td>0.0</td>\n",
       "    </tr>\n",
       "    <tr>\n",
       "      <th>1</th>\n",
       "      <td>0.0</td>\n",
       "      <td>1</td>\n",
       "      <td>1</td>\n",
       "      <td>0</td>\n",
       "      <td>1.0</td>\n",
       "      <td>1</td>\n",
       "      <td>0</td>\n",
       "      <td>1.0</td>\n",
       "      <td>1</td>\n",
       "      <td>0</td>\n",
       "      <td>18.635695</td>\n",
       "      <td>101.291280</td>\n",
       "      <td>1.028453</td>\n",
       "      <td>45.283493</td>\n",
       "      <td>8.032799</td>\n",
       "      <td>0.385358</td>\n",
       "      <td>NaN</td>\n",
       "      <td>4.982916</td>\n",
       "      <td>0.196654</td>\n",
       "      <td>3.589323</td>\n",
       "      <td>3.443913</td>\n",
       "      <td>0.224468</td>\n",
       "      <td>1.732377</td>\n",
       "      <td>4.118886</td>\n",
       "      <td>0.029545</td>\n",
       "      <td>3.469034</td>\n",
       "      <td>61.629681</td>\n",
       "      <td>0.058782</td>\n",
       "      <td>56.154209</td>\n",
       "      <td>11.777673</td>\n",
       "      <td>0.0</td>\n",
       "    </tr>\n",
       "    <tr>\n",
       "      <th>2</th>\n",
       "      <td>0.0</td>\n",
       "      <td>1</td>\n",
       "      <td>1</td>\n",
       "      <td>0</td>\n",
       "      <td>1.0</td>\n",
       "      <td>1</td>\n",
       "      <td>0</td>\n",
       "      <td>NaN</td>\n",
       "      <td>1</td>\n",
       "      <td>0</td>\n",
       "      <td>18.391256</td>\n",
       "      <td>182.136756</td>\n",
       "      <td>1.771259</td>\n",
       "      <td>9.259151</td>\n",
       "      <td>146.496257</td>\n",
       "      <td>0.312835</td>\n",
       "      <td>NaN</td>\n",
       "      <td>6.145800</td>\n",
       "      <td>0.591637</td>\n",
       "      <td>2.996391</td>\n",
       "      <td>3.905700</td>\n",
       "      <td>0.625058</td>\n",
       "      <td>4.083644</td>\n",
       "      <td>2.500723</td>\n",
       "      <td>0.285155</td>\n",
       "      <td>31.284113</td>\n",
       "      <td>47.512823</td>\n",
       "      <td>0.101458</td>\n",
       "      <td>35.196478</td>\n",
       "      <td>81.645561</td>\n",
       "      <td>0.0</td>\n",
       "    </tr>\n",
       "    <tr>\n",
       "      <th>3</th>\n",
       "      <td>0.0</td>\n",
       "      <td>0</td>\n",
       "      <td>0</td>\n",
       "      <td>0</td>\n",
       "      <td>0.0</td>\n",
       "      <td>0</td>\n",
       "      <td>0</td>\n",
       "      <td>0.0</td>\n",
       "      <td>0</td>\n",
       "      <td>0</td>\n",
       "      <td>-0.198989</td>\n",
       "      <td>-0.065972</td>\n",
       "      <td>1.252370</td>\n",
       "      <td>-0.281176</td>\n",
       "      <td>-0.142626</td>\n",
       "      <td>-6.436934</td>\n",
       "      <td>NaN</td>\n",
       "      <td>-1.922825</td>\n",
       "      <td>-5.415892</td>\n",
       "      <td>-2.144692</td>\n",
       "      <td>-3.110316</td>\n",
       "      <td>-2.885436</td>\n",
       "      <td>-1.545734</td>\n",
       "      <td>-2.284548</td>\n",
       "      <td>-200.012461</td>\n",
       "      <td>-0.046499</td>\n",
       "      <td>-19.956440</td>\n",
       "      <td>NaN</td>\n",
       "      <td>-4.907402</td>\n",
       "      <td>-4.157230</td>\n",
       "      <td>0.0</td>\n",
       "    </tr>\n",
       "    <tr>\n",
       "      <th>4</th>\n",
       "      <td>0.0</td>\n",
       "      <td>0</td>\n",
       "      <td>1</td>\n",
       "      <td>0</td>\n",
       "      <td>0.0</td>\n",
       "      <td>1</td>\n",
       "      <td>1</td>\n",
       "      <td>0.0</td>\n",
       "      <td>1</td>\n",
       "      <td>0</td>\n",
       "      <td>-0.660910</td>\n",
       "      <td>6.510449</td>\n",
       "      <td>1.386389</td>\n",
       "      <td>-0.810476</td>\n",
       "      <td>3.679736</td>\n",
       "      <td>1.100299</td>\n",
       "      <td>NaN</td>\n",
       "      <td>0.937796</td>\n",
       "      <td>1.022608</td>\n",
       "      <td>-0.411579</td>\n",
       "      <td>0.989882</td>\n",
       "      <td>0.850447</td>\n",
       "      <td>-0.769063</td>\n",
       "      <td>1.164243</td>\n",
       "      <td>3.792408</td>\n",
       "      <td>-0.003194</td>\n",
       "      <td>10.892589</td>\n",
       "      <td>0.547955</td>\n",
       "      <td>-0.017424</td>\n",
       "      <td>3.889439</td>\n",
       "      <td>0.0</td>\n",
       "    </tr>\n",
       "  </tbody>\n",
       "</table>\n",
       "</div>"
      ],
      "text/plain": [
       "    V1  V2  V3  V4   V5  V6  V7   V8  V9  V10        V11         V12  \\\n",
       "0  1.0   1   0   1  1.0   0   1  1.0   0    1   3.634869   -0.401135   \n",
       "1  0.0   1   1   0  1.0   1   0  1.0   1    0  18.635695  101.291280   \n",
       "2  0.0   1   1   0  1.0   1   0  NaN   1    0  18.391256  182.136756   \n",
       "3  0.0   0   0   0  0.0   0   0  0.0   0    0  -0.198989   -0.065972   \n",
       "4  0.0   0   1   0  0.0   1   1  0.0   1    0  -0.660910    6.510449   \n",
       "\n",
       "        V13        V14         V15       V16  V17       V18       V19  \\\n",
       "0  7.298843   2.299257   -0.433587  4.838273  NaN -1.354651  4.349899   \n",
       "1  1.028453  45.283493    8.032799  0.385358  NaN  4.982916  0.196654   \n",
       "2  1.771259   9.259151  146.496257  0.312835  NaN  6.145800  0.591637   \n",
       "3  1.252370  -0.281176   -0.142626 -6.436934  NaN -1.922825 -5.415892   \n",
       "4  1.386389  -0.810476    3.679736  1.100299  NaN  0.937796  1.022608   \n",
       "\n",
       "        V20       V21       V22       V23       V24         V25        V26  \\\n",
       "0  1.068831 -0.995826  2.669044  1.332046 -0.383623   58.203268   2.516582   \n",
       "1  3.589323  3.443913  0.224468  1.732377  4.118886    0.029545   3.469034   \n",
       "2  2.996391  3.905700  0.625058  4.083644  2.500723    0.285155  31.284113   \n",
       "3 -2.144692 -3.110316 -2.885436 -1.545734 -2.284548 -200.012461  -0.046499   \n",
       "4 -0.411579  0.989882  0.850447 -0.769063  1.164243    3.792408  -0.003194   \n",
       "\n",
       "         V27        V28        V29        V30    R  \n",
       "0  -0.063320  47.187762   0.050729  -3.556211  0.0  \n",
       "1  61.629681   0.058782  56.154209  11.777673  0.0  \n",
       "2  47.512823   0.101458  35.196478  81.645561  0.0  \n",
       "3 -19.956440        NaN  -4.907402  -4.157230  0.0  \n",
       "4  10.892589   0.547955  -0.017424   3.889439  0.0  "
      ]
     },
     "metadata": {},
     "output_type": "display_data"
    }
   ],
   "source": [
    "display_all(df.head())"
   ]
  },
  {
   "cell_type": "code",
   "execution_count": 8,
   "metadata": {
    "scrolled": true
   },
   "outputs": [
    {
     "data": {
      "text/plain": [
       "(100000, 31)"
      ]
     },
     "execution_count": 8,
     "metadata": {},
     "output_type": "execute_result"
    }
   ],
   "source": [
    "df.shape"
   ]
  },
  {
   "cell_type": "code",
   "execution_count": 9,
   "metadata": {
    "collapsed": true
   },
   "outputs": [
    {
     "data": {
      "text/plain": [
       "V1     float64\n",
       "V2       int64\n",
       "V3       int64\n",
       "V4       int64\n",
       "V5     float64\n",
       "V6       int64\n",
       "V7       int64\n",
       "V8     float64\n",
       "V9       int64\n",
       "V10      int64\n",
       "V11    float64\n",
       "V12    float64\n",
       "V13    float64\n",
       "V14    float64\n",
       "V15    float64\n",
       "V16    float64\n",
       "V17    float64\n",
       "V18    float64\n",
       "V19    float64\n",
       "V20    float64\n",
       "V21    float64\n",
       "V22    float64\n",
       "V23    float64\n",
       "V24    float64\n",
       "V25    float64\n",
       "V26    float64\n",
       "V27    float64\n",
       "V28    float64\n",
       "V29    float64\n",
       "V30    float64\n",
       "R      float64\n",
       "dtype: object"
      ]
     },
     "execution_count": 9,
     "metadata": {},
     "output_type": "execute_result"
    }
   ],
   "source": [
    "df.dtypes"
   ]
  },
  {
   "cell_type": "markdown",
   "metadata": {},
   "source": [
    "### checking for missing values"
   ]
  },
  {
   "cell_type": "code",
   "execution_count": 10,
   "metadata": {
    "collapsed": true
   },
   "outputs": [
    {
     "data": {
      "text/plain": [
       "V1      5188\n",
       "V2         0\n",
       "V3         0\n",
       "V4         0\n",
       "V5      5139\n",
       "V6         0\n",
       "V7         0\n",
       "V8      5074\n",
       "V9         0\n",
       "V10        0\n",
       "V11        0\n",
       "V12        0\n",
       "V13        0\n",
       "V14        0\n",
       "V15        0\n",
       "V16        0\n",
       "V17    64874\n",
       "V18        0\n",
       "V19        0\n",
       "V20        0\n",
       "V21        0\n",
       "V22     5046\n",
       "V23        0\n",
       "V24        0\n",
       "V25        0\n",
       "V26        0\n",
       "V27        0\n",
       "V28     5104\n",
       "V29        0\n",
       "V30        0\n",
       "R          0\n",
       "dtype: int64"
      ]
     },
     "execution_count": 10,
     "metadata": {},
     "output_type": "execute_result"
    }
   ],
   "source": [
    "df.isnull().sum()"
   ]
  },
  {
   "cell_type": "markdown",
   "metadata": {},
   "source": [
    "### convering target variable to 1/0"
   ]
  },
  {
   "cell_type": "code",
   "execution_count": 11,
   "metadata": {},
   "outputs": [],
   "source": [
    "df['Target'] = np.where(df['R'] > 0, 1, 0)"
   ]
  },
  {
   "cell_type": "code",
   "execution_count": 12,
   "metadata": {
    "scrolled": true
   },
   "outputs": [
    {
     "data": {
      "text/plain": [
       "0    94465\n",
       "1     5535\n",
       "Name: Target, dtype: int64"
      ]
     },
     "execution_count": 12,
     "metadata": {},
     "output_type": "execute_result"
    }
   ],
   "source": [
    "df['Target'].value_counts()"
   ]
  },
  {
   "cell_type": "markdown",
   "metadata": {},
   "source": [
    "### rare case events = ~ 6%"
   ]
  },
  {
   "cell_type": "code",
   "execution_count": 13,
   "metadata": {
    "scrolled": true
   },
   "outputs": [
    {
     "data": {
      "text/plain": [
       "0.05859312973058805"
      ]
     },
     "execution_count": 13,
     "metadata": {},
     "output_type": "execute_result"
    }
   ],
   "source": [
    "5535/94465"
   ]
  },
  {
   "cell_type": "markdown",
   "metadata": {},
   "source": [
    "### missing value imputation -- \"mode\" for categorical variable and \"median\" for continuous variable"
   ]
  },
  {
   "cell_type": "code",
   "execution_count": 14,
   "metadata": {},
   "outputs": [],
   "source": [
    "for cols in ['V1', 'V2', 'V3', 'V4', 'V5', 'V6', 'V7', 'V8', 'V9', 'V10']:\n",
    "    df[cols] = df[cols].fillna(df[cols].mode()[0])"
   ]
  },
  {
   "cell_type": "code",
   "execution_count": 15,
   "metadata": {},
   "outputs": [],
   "source": [
    "for cols in ['V11', 'V12', 'V13', 'V14', 'V15', 'V16', 'V17', 'V18', 'V19', 'V20',\n",
    "            'V21', 'V22', 'V23', 'V24', 'V25', 'V26', 'V27', 'V28', 'V29', 'V30']:\n",
    "    df[cols] = df[cols].fillna(df[cols].median())"
   ]
  },
  {
   "cell_type": "code",
   "execution_count": 16,
   "metadata": {},
   "outputs": [
    {
     "data": {
      "text/plain": [
       "0"
      ]
     },
     "execution_count": 16,
     "metadata": {},
     "output_type": "execute_result"
    }
   ],
   "source": [
    "df.isnull().sum().sum()"
   ]
  },
  {
   "cell_type": "code",
   "execution_count": 196,
   "metadata": {},
   "outputs": [],
   "source": [
    "df.to_csv(f\"{path}cleaned_data.csv\", index=False)"
   ]
  },
  {
   "cell_type": "code",
   "execution_count": 17,
   "metadata": {
    "scrolled": true
   },
   "outputs": [
    {
     "data": {
      "text/html": [
       "<div>\n",
       "<style scoped>\n",
       "    .dataframe tbody tr th:only-of-type {\n",
       "        vertical-align: middle;\n",
       "    }\n",
       "\n",
       "    .dataframe tbody tr th {\n",
       "        vertical-align: top;\n",
       "    }\n",
       "\n",
       "    .dataframe thead th {\n",
       "        text-align: right;\n",
       "    }\n",
       "</style>\n",
       "<table border=\"1\" class=\"dataframe\">\n",
       "  <thead>\n",
       "    <tr style=\"text-align: right;\">\n",
       "      <th></th>\n",
       "      <th>V1</th>\n",
       "      <th>V2</th>\n",
       "      <th>V3</th>\n",
       "      <th>V4</th>\n",
       "      <th>V5</th>\n",
       "      <th>V6</th>\n",
       "      <th>V7</th>\n",
       "      <th>V8</th>\n",
       "      <th>V9</th>\n",
       "      <th>V10</th>\n",
       "      <th>V11</th>\n",
       "      <th>V12</th>\n",
       "      <th>V13</th>\n",
       "      <th>V14</th>\n",
       "      <th>V15</th>\n",
       "      <th>V16</th>\n",
       "      <th>V17</th>\n",
       "      <th>V18</th>\n",
       "      <th>V19</th>\n",
       "      <th>V20</th>\n",
       "      <th>V21</th>\n",
       "      <th>V22</th>\n",
       "      <th>V23</th>\n",
       "      <th>V24</th>\n",
       "      <th>V25</th>\n",
       "      <th>V26</th>\n",
       "      <th>V27</th>\n",
       "      <th>V28</th>\n",
       "      <th>V29</th>\n",
       "      <th>V30</th>\n",
       "      <th>R</th>\n",
       "      <th>Target</th>\n",
       "    </tr>\n",
       "  </thead>\n",
       "  <tbody>\n",
       "    <tr>\n",
       "      <th>0</th>\n",
       "      <td>1.0</td>\n",
       "      <td>1</td>\n",
       "      <td>0</td>\n",
       "      <td>1</td>\n",
       "      <td>1.0</td>\n",
       "      <td>0</td>\n",
       "      <td>1</td>\n",
       "      <td>1.0</td>\n",
       "      <td>0</td>\n",
       "      <td>1</td>\n",
       "      <td>3.634869</td>\n",
       "      <td>-0.401135</td>\n",
       "      <td>7.298843</td>\n",
       "      <td>2.299257</td>\n",
       "      <td>-0.433587</td>\n",
       "      <td>4.838273</td>\n",
       "      <td>-0.288929</td>\n",
       "      <td>-1.354651</td>\n",
       "      <td>4.349899</td>\n",
       "      <td>1.068831</td>\n",
       "      <td>-0.995826</td>\n",
       "      <td>2.669044</td>\n",
       "      <td>1.332046</td>\n",
       "      <td>-0.383623</td>\n",
       "      <td>58.203268</td>\n",
       "      <td>2.516582</td>\n",
       "      <td>-0.063320</td>\n",
       "      <td>47.187762</td>\n",
       "      <td>0.050729</td>\n",
       "      <td>-3.556211</td>\n",
       "      <td>0.0</td>\n",
       "      <td>0</td>\n",
       "    </tr>\n",
       "    <tr>\n",
       "      <th>1</th>\n",
       "      <td>0.0</td>\n",
       "      <td>1</td>\n",
       "      <td>1</td>\n",
       "      <td>0</td>\n",
       "      <td>1.0</td>\n",
       "      <td>1</td>\n",
       "      <td>0</td>\n",
       "      <td>1.0</td>\n",
       "      <td>1</td>\n",
       "      <td>0</td>\n",
       "      <td>18.635695</td>\n",
       "      <td>101.291280</td>\n",
       "      <td>1.028453</td>\n",
       "      <td>45.283493</td>\n",
       "      <td>8.032799</td>\n",
       "      <td>0.385358</td>\n",
       "      <td>-0.288929</td>\n",
       "      <td>4.982916</td>\n",
       "      <td>0.196654</td>\n",
       "      <td>3.589323</td>\n",
       "      <td>3.443913</td>\n",
       "      <td>0.224468</td>\n",
       "      <td>1.732377</td>\n",
       "      <td>4.118886</td>\n",
       "      <td>0.029545</td>\n",
       "      <td>3.469034</td>\n",
       "      <td>61.629681</td>\n",
       "      <td>0.058782</td>\n",
       "      <td>56.154209</td>\n",
       "      <td>11.777673</td>\n",
       "      <td>0.0</td>\n",
       "      <td>0</td>\n",
       "    </tr>\n",
       "    <tr>\n",
       "      <th>2</th>\n",
       "      <td>0.0</td>\n",
       "      <td>1</td>\n",
       "      <td>1</td>\n",
       "      <td>0</td>\n",
       "      <td>1.0</td>\n",
       "      <td>1</td>\n",
       "      <td>0</td>\n",
       "      <td>0.0</td>\n",
       "      <td>1</td>\n",
       "      <td>0</td>\n",
       "      <td>18.391256</td>\n",
       "      <td>182.136756</td>\n",
       "      <td>1.771259</td>\n",
       "      <td>9.259151</td>\n",
       "      <td>146.496257</td>\n",
       "      <td>0.312835</td>\n",
       "      <td>-0.288929</td>\n",
       "      <td>6.145800</td>\n",
       "      <td>0.591637</td>\n",
       "      <td>2.996391</td>\n",
       "      <td>3.905700</td>\n",
       "      <td>0.625058</td>\n",
       "      <td>4.083644</td>\n",
       "      <td>2.500723</td>\n",
       "      <td>0.285155</td>\n",
       "      <td>31.284113</td>\n",
       "      <td>47.512823</td>\n",
       "      <td>0.101458</td>\n",
       "      <td>35.196478</td>\n",
       "      <td>81.645561</td>\n",
       "      <td>0.0</td>\n",
       "      <td>0</td>\n",
       "    </tr>\n",
       "    <tr>\n",
       "      <th>3</th>\n",
       "      <td>0.0</td>\n",
       "      <td>0</td>\n",
       "      <td>0</td>\n",
       "      <td>0</td>\n",
       "      <td>0.0</td>\n",
       "      <td>0</td>\n",
       "      <td>0</td>\n",
       "      <td>0.0</td>\n",
       "      <td>0</td>\n",
       "      <td>0</td>\n",
       "      <td>-0.198989</td>\n",
       "      <td>-0.065972</td>\n",
       "      <td>1.252370</td>\n",
       "      <td>-0.281176</td>\n",
       "      <td>-0.142626</td>\n",
       "      <td>-6.436934</td>\n",
       "      <td>-0.288929</td>\n",
       "      <td>-1.922825</td>\n",
       "      <td>-5.415892</td>\n",
       "      <td>-2.144692</td>\n",
       "      <td>-3.110316</td>\n",
       "      <td>-2.885436</td>\n",
       "      <td>-1.545734</td>\n",
       "      <td>-2.284548</td>\n",
       "      <td>-200.012461</td>\n",
       "      <td>-0.046499</td>\n",
       "      <td>-19.956440</td>\n",
       "      <td>-0.030863</td>\n",
       "      <td>-4.907402</td>\n",
       "      <td>-4.157230</td>\n",
       "      <td>0.0</td>\n",
       "      <td>0</td>\n",
       "    </tr>\n",
       "    <tr>\n",
       "      <th>4</th>\n",
       "      <td>0.0</td>\n",
       "      <td>0</td>\n",
       "      <td>1</td>\n",
       "      <td>0</td>\n",
       "      <td>0.0</td>\n",
       "      <td>1</td>\n",
       "      <td>1</td>\n",
       "      <td>0.0</td>\n",
       "      <td>1</td>\n",
       "      <td>0</td>\n",
       "      <td>-0.660910</td>\n",
       "      <td>6.510449</td>\n",
       "      <td>1.386389</td>\n",
       "      <td>-0.810476</td>\n",
       "      <td>3.679736</td>\n",
       "      <td>1.100299</td>\n",
       "      <td>-0.288929</td>\n",
       "      <td>0.937796</td>\n",
       "      <td>1.022608</td>\n",
       "      <td>-0.411579</td>\n",
       "      <td>0.989882</td>\n",
       "      <td>0.850447</td>\n",
       "      <td>-0.769063</td>\n",
       "      <td>1.164243</td>\n",
       "      <td>3.792408</td>\n",
       "      <td>-0.003194</td>\n",
       "      <td>10.892589</td>\n",
       "      <td>0.547955</td>\n",
       "      <td>-0.017424</td>\n",
       "      <td>3.889439</td>\n",
       "      <td>0.0</td>\n",
       "      <td>0</td>\n",
       "    </tr>\n",
       "  </tbody>\n",
       "</table>\n",
       "</div>"
      ],
      "text/plain": [
       "    V1  V2  V3  V4   V5  V6  V7   V8  V9  V10        V11         V12  \\\n",
       "0  1.0   1   0   1  1.0   0   1  1.0   0    1   3.634869   -0.401135   \n",
       "1  0.0   1   1   0  1.0   1   0  1.0   1    0  18.635695  101.291280   \n",
       "2  0.0   1   1   0  1.0   1   0  0.0   1    0  18.391256  182.136756   \n",
       "3  0.0   0   0   0  0.0   0   0  0.0   0    0  -0.198989   -0.065972   \n",
       "4  0.0   0   1   0  0.0   1   1  0.0   1    0  -0.660910    6.510449   \n",
       "\n",
       "        V13        V14         V15       V16       V17       V18       V19  \\\n",
       "0  7.298843   2.299257   -0.433587  4.838273 -0.288929 -1.354651  4.349899   \n",
       "1  1.028453  45.283493    8.032799  0.385358 -0.288929  4.982916  0.196654   \n",
       "2  1.771259   9.259151  146.496257  0.312835 -0.288929  6.145800  0.591637   \n",
       "3  1.252370  -0.281176   -0.142626 -6.436934 -0.288929 -1.922825 -5.415892   \n",
       "4  1.386389  -0.810476    3.679736  1.100299 -0.288929  0.937796  1.022608   \n",
       "\n",
       "        V20       V21       V22       V23       V24         V25        V26  \\\n",
       "0  1.068831 -0.995826  2.669044  1.332046 -0.383623   58.203268   2.516582   \n",
       "1  3.589323  3.443913  0.224468  1.732377  4.118886    0.029545   3.469034   \n",
       "2  2.996391  3.905700  0.625058  4.083644  2.500723    0.285155  31.284113   \n",
       "3 -2.144692 -3.110316 -2.885436 -1.545734 -2.284548 -200.012461  -0.046499   \n",
       "4 -0.411579  0.989882  0.850447 -0.769063  1.164243    3.792408  -0.003194   \n",
       "\n",
       "         V27        V28        V29        V30    R  Target  \n",
       "0  -0.063320  47.187762   0.050729  -3.556211  0.0       0  \n",
       "1  61.629681   0.058782  56.154209  11.777673  0.0       0  \n",
       "2  47.512823   0.101458  35.196478  81.645561  0.0       0  \n",
       "3 -19.956440  -0.030863  -4.907402  -4.157230  0.0       0  \n",
       "4  10.892589   0.547955  -0.017424   3.889439  0.0       0  "
      ]
     },
     "metadata": {},
     "output_type": "display_data"
    }
   ],
   "source": [
    "display_all(df.head())"
   ]
  },
  {
   "cell_type": "markdown",
   "metadata": {},
   "source": [
    "### creating input and output space"
   ]
  },
  {
   "cell_type": "code",
   "execution_count": 18,
   "metadata": {},
   "outputs": [],
   "source": [
    "x = df.drop(['R', 'Target'], axis=1)\n",
    "y = df['Target']"
   ]
  },
  {
   "cell_type": "markdown",
   "metadata": {},
   "source": [
    "### dividing the raw data into train and validation data sets -- stratify sampling on the target variable"
   ]
  },
  {
   "cell_type": "code",
   "execution_count": 19,
   "metadata": {},
   "outputs": [],
   "source": [
    "X_train, X_valid, y_train, y_valid = train_test_split(x,y, stratify = y, test_size = 0.2, random_state = 42)"
   ]
  },
  {
   "cell_type": "markdown",
   "metadata": {},
   "source": [
    "### random forest classification model (tuned model)"
   ]
  },
  {
   "cell_type": "markdown",
   "metadata": {},
   "source": [
    "Type II error (False Negative) has more value, because you do not want to lose customer based on your model results\n",
    "\n",
    "==> recall (sensitivity) should be higher"
   ]
  },
  {
   "cell_type": "code",
   "execution_count": 20,
   "metadata": {},
   "outputs": [
    {
     "data": {
      "text/plain": [
       "RandomForestClassifier(bootstrap=True, class_weight=None, criterion='entropy',\n",
       "            max_depth=None, max_features=0.9, max_leaf_nodes=None,\n",
       "            min_impurity_decrease=0.0, min_impurity_split=None,\n",
       "            min_samples_leaf=1, min_samples_split=2,\n",
       "            min_weight_fraction_leaf=0.0, n_estimators=80, n_jobs=-1,\n",
       "            oob_score=False, random_state=123, verbose=0, warm_start=False)"
      ]
     },
     "execution_count": 20,
     "metadata": {},
     "output_type": "execute_result"
    }
   ],
   "source": [
    "rf = RandomForestClassifier(n_jobs=-1, n_estimators=80, max_features=0.9, criterion='entropy', random_state = 123)\n",
    "rf.fit(X_train, y_train)"
   ]
  },
  {
   "cell_type": "code",
   "execution_count": 21,
   "metadata": {},
   "outputs": [],
   "source": [
    "preds = rf.predict(X_valid)"
   ]
  },
  {
   "cell_type": "code",
   "execution_count": 22,
   "metadata": {},
   "outputs": [
    {
     "data": {
      "text/plain": [
       "0.9847"
      ]
     },
     "execution_count": 22,
     "metadata": {},
     "output_type": "execute_result"
    }
   ],
   "source": [
    "accuracy_score(y_valid, preds)"
   ]
  },
  {
   "cell_type": "code",
   "execution_count": 23,
   "metadata": {},
   "outputs": [
    {
     "data": {
      "text/plain": [
       "array([[18772,   121],\n",
       "       [  185,   922]], dtype=int64)"
      ]
     },
     "execution_count": 23,
     "metadata": {},
     "output_type": "execute_result"
    }
   ],
   "source": [
    "confusion_matrix(y_valid, preds)"
   ]
  },
  {
   "cell_type": "code",
   "execution_count": 24,
   "metadata": {},
   "outputs": [
    {
     "name": "stdout",
     "output_type": "stream",
     "text": [
      "              precision    recall  f1-score   support\n",
      "\n",
      "           0       0.99      0.99      0.99     18893\n",
      "           1       0.88      0.83      0.86      1107\n",
      "\n",
      "   micro avg       0.98      0.98      0.98     20000\n",
      "   macro avg       0.94      0.91      0.92     20000\n",
      "weighted avg       0.98      0.98      0.98     20000\n",
      "\n"
     ]
    }
   ],
   "source": [
    "print(classification_report(y_valid, preds))"
   ]
  },
  {
   "cell_type": "code",
   "execution_count": 25,
   "metadata": {
    "scrolled": false
   },
   "outputs": [
    {
     "data": {
      "text/plain": [
       "<matplotlib.axes._subplots.AxesSubplot at 0xc49f780>"
      ]
     },
     "execution_count": 25,
     "metadata": {},
     "output_type": "execute_result"
    },
    {
     "data": {
      "image/png": "[encoded data removed]",
      "text/plain": [
       "<Figure size 720x720 with 1 Axes>"
      ]
     },
     "metadata": {
      "needs_background": "light"
     },
     "output_type": "display_data"
    }
   ],
   "source": [
    "pd.DataFrame(rf.feature_importances_*100, index=x.columns, \n",
    "             columns=['importance']).sort_values('importance', ascending=True).plot.barh(figsize = (10,10))"
   ]
  },
  {
   "cell_type": "markdown",
   "metadata": {},
   "source": [
    "### RF without V28, V22, V30 (poor model)"
   ]
  },
  {
   "cell_type": "code",
   "execution_count": 26,
   "metadata": {},
   "outputs": [],
   "source": [
    "x_v123 = df.drop(['R', 'Target', 'V22', 'V28', 'V30'], axis=1)\n",
    "y_v123 = df['Target']"
   ]
  },
  {
   "cell_type": "code",
   "execution_count": 28,
   "metadata": {},
   "outputs": [],
   "source": [
    "X_train_v123, X_valid_v123, y_train_v123, y_valid_v123 = train_test_split(x_v123, y_v123, stratify = y_v123, test_size = 0.2, random_state = 42)"
   ]
  },
  {
   "cell_type": "code",
   "execution_count": 29,
   "metadata": {},
   "outputs": [
    {
     "data": {
      "text/plain": [
       "RandomForestClassifier(bootstrap=True, class_weight=None, criterion='entropy',\n",
       "            max_depth=None, max_features=0.9, max_leaf_nodes=None,\n",
       "            min_impurity_decrease=0.0, min_impurity_split=None,\n",
       "            min_samples_leaf=1, min_samples_split=2,\n",
       "            min_weight_fraction_leaf=0.0, n_estimators=80, n_jobs=-1,\n",
       "            oob_score=False, random_state=123, verbose=0, warm_start=False)"
      ]
     },
     "execution_count": 29,
     "metadata": {},
     "output_type": "execute_result"
    }
   ],
   "source": [
    "rf = RandomForestClassifier(n_jobs=-1, n_estimators=80, max_features=0.9, criterion='entropy', random_state = 123)\n",
    "rf.fit(X_train_v123, y_train_v123)"
   ]
  },
  {
   "cell_type": "code",
   "execution_count": 30,
   "metadata": {},
   "outputs": [],
   "source": [
    "preds = rf.predict(X_valid_v123)"
   ]
  },
  {
   "cell_type": "code",
   "execution_count": 31,
   "metadata": {},
   "outputs": [
    {
     "data": {
      "text/plain": [
       "0.9759"
      ]
     },
     "execution_count": 31,
     "metadata": {},
     "output_type": "execute_result"
    }
   ],
   "source": [
    "accuracy_score(y_valid_v123, preds)"
   ]
  },
  {
   "cell_type": "code",
   "execution_count": 32,
   "metadata": {},
   "outputs": [
    {
     "data": {
      "text/plain": [
       "array([[18767,   126],\n",
       "       [  356,   751]], dtype=int64)"
      ]
     },
     "execution_count": 32,
     "metadata": {},
     "output_type": "execute_result"
    }
   ],
   "source": [
    "confusion_matrix(y_valid_v123, preds)"
   ]
  },
  {
   "cell_type": "code",
   "execution_count": 33,
   "metadata": {},
   "outputs": [
    {
     "name": "stdout",
     "output_type": "stream",
     "text": [
      "              precision    recall  f1-score   support\n",
      "\n",
      "           0       0.98      0.99      0.99     18893\n",
      "           1       0.86      0.68      0.76      1107\n",
      "\n",
      "   micro avg       0.98      0.98      0.98     20000\n",
      "   macro avg       0.92      0.84      0.87     20000\n",
      "weighted avg       0.97      0.98      0.97     20000\n",
      "\n"
     ]
    }
   ],
   "source": [
    "print(classification_report(y_valid_v123, preds))"
   ]
  },
  {
   "cell_type": "code",
   "execution_count": 34,
   "metadata": {
    "collapsed": true
   },
   "outputs": [
    {
     "data": {
      "text/plain": [
       "<matplotlib.axes._subplots.AxesSubplot at 0xce3db70>"
      ]
     },
     "execution_count": 34,
     "metadata": {},
     "output_type": "execute_result"
    },
    {
     "data": {
      "image/png": "[encoded data removed]",
      "text/plain": [
       "<Figure size 720x720 with 1 Axes>"
      ]
     },
     "metadata": {
      "needs_background": "light"
     },
     "output_type": "display_data"
    }
   ],
   "source": [
    "pd.DataFrame(rf.feature_importances_*100, index=x_v123.columns, \n",
    "             columns=['importance']).sort_values('importance', ascending=True).plot.barh(figsize = (10,10))"
   ]
  },
  {
   "cell_type": "markdown",
   "metadata": {},
   "source": [
    "### RF without V22 (poor model)"
   ]
  },
  {
   "cell_type": "code",
   "execution_count": 35,
   "metadata": {},
   "outputs": [],
   "source": [
    "x_v22 = df.drop(['R', 'Target', 'V22'], axis=1)\n",
    "y_v22 = df['Target']"
   ]
  },
  {
   "cell_type": "code",
   "execution_count": 36,
   "metadata": {},
   "outputs": [],
   "source": [
    "X_train_v22, X_valid_v22, y_train_v22, y_valid_v22 = train_test_split(x_v22,y_v22, stratify = y_v22, test_size = 0.2, random_state = 42)"
   ]
  },
  {
   "cell_type": "code",
   "execution_count": 37,
   "metadata": {},
   "outputs": [
    {
     "data": {
      "text/plain": [
       "RandomForestClassifier(bootstrap=True, class_weight=None, criterion='entropy',\n",
       "            max_depth=None, max_features=0.9, max_leaf_nodes=None,\n",
       "            min_impurity_decrease=0.0, min_impurity_split=None,\n",
       "            min_samples_leaf=1, min_samples_split=2,\n",
       "            min_weight_fraction_leaf=0.0, n_estimators=80, n_jobs=-1,\n",
       "            oob_score=False, random_state=123, verbose=0, warm_start=False)"
      ]
     },
     "execution_count": 37,
     "metadata": {},
     "output_type": "execute_result"
    }
   ],
   "source": [
    "rf = RandomForestClassifier(n_jobs=-1, n_estimators=80, max_features=0.9, criterion='entropy', random_state = 123)\n",
    "rf.fit(X_train_v22, y_train_v22)"
   ]
  },
  {
   "cell_type": "code",
   "execution_count": 38,
   "metadata": {},
   "outputs": [],
   "source": [
    "preds = rf.predict(X_valid_v22)"
   ]
  },
  {
   "cell_type": "code",
   "execution_count": 39,
   "metadata": {},
   "outputs": [
    {
     "data": {
      "text/plain": [
       "0.9794"
      ]
     },
     "execution_count": 39,
     "metadata": {},
     "output_type": "execute_result"
    }
   ],
   "source": [
    "accuracy_score(y_valid_v22, preds)"
   ]
  },
  {
   "cell_type": "code",
   "execution_count": 40,
   "metadata": {},
   "outputs": [
    {
     "data": {
      "text/plain": [
       "array([[18761,   132],\n",
       "       [  280,   827]], dtype=int64)"
      ]
     },
     "execution_count": 40,
     "metadata": {},
     "output_type": "execute_result"
    }
   ],
   "source": [
    "confusion_matrix(y_valid_v22, preds)"
   ]
  },
  {
   "cell_type": "code",
   "execution_count": 41,
   "metadata": {},
   "outputs": [
    {
     "name": "stdout",
     "output_type": "stream",
     "text": [
      "              precision    recall  f1-score   support\n",
      "\n",
      "           0       0.99      0.99      0.99     18893\n",
      "           1       0.86      0.75      0.80      1107\n",
      "\n",
      "   micro avg       0.98      0.98      0.98     20000\n",
      "   macro avg       0.92      0.87      0.89     20000\n",
      "weighted avg       0.98      0.98      0.98     20000\n",
      "\n"
     ]
    }
   ],
   "source": [
    "print(classification_report(y_valid_v22, preds))"
   ]
  },
  {
   "cell_type": "code",
   "execution_count": 42,
   "metadata": {
    "collapsed": true
   },
   "outputs": [
    {
     "data": {
      "text/plain": [
       "<matplotlib.axes._subplots.AxesSubplot at 0xd436eb8>"
      ]
     },
     "execution_count": 42,
     "metadata": {},
     "output_type": "execute_result"
    },
    {
     "data": {
      "image/png": "[encoded data removed]",
      "text/plain": [
       "<Figure size 720x720 with 1 Axes>"
      ]
     },
     "metadata": {
      "needs_background": "light"
     },
     "output_type": "display_data"
    }
   ],
   "source": [
    "pd.DataFrame(rf.feature_importances_*100, index=x_v22.columns, \n",
    "             columns=['importance']).sort_values('importance', ascending=True).plot.barh(figsize = (10,10))"
   ]
  },
  {
   "cell_type": "markdown",
   "metadata": {},
   "source": [
    "### RF without V30 (poor model)"
   ]
  },
  {
   "cell_type": "code",
   "execution_count": 43,
   "metadata": {},
   "outputs": [],
   "source": [
    "x_v30 = df.drop(['R', 'Target', 'V30'], axis=1)\n",
    "y_v30 = df['Target']"
   ]
  },
  {
   "cell_type": "code",
   "execution_count": 44,
   "metadata": {},
   "outputs": [],
   "source": [
    "X_train_v30, X_valid_v30, y_train_v30, y_valid_v30 = train_test_split(x_v30,y_v30, stratify = y_v30, test_size = 0.2, random_state = 42)"
   ]
  },
  {
   "cell_type": "code",
   "execution_count": 45,
   "metadata": {},
   "outputs": [
    {
     "data": {
      "text/plain": [
       "RandomForestClassifier(bootstrap=True, class_weight=None, criterion='entropy',\n",
       "            max_depth=None, max_features=0.9, max_leaf_nodes=None,\n",
       "            min_impurity_decrease=0.0, min_impurity_split=None,\n",
       "            min_samples_leaf=1, min_samples_split=2,\n",
       "            min_weight_fraction_leaf=0.0, n_estimators=80, n_jobs=-1,\n",
       "            oob_score=False, random_state=123, verbose=0, warm_start=False)"
      ]
     },
     "execution_count": 45,
     "metadata": {},
     "output_type": "execute_result"
    }
   ],
   "source": [
    "rf = RandomForestClassifier(n_jobs=-1, n_estimators=80, max_features=0.9, criterion='entropy', random_state = 123)\n",
    "rf.fit(X_train_v30, y_train_v30)"
   ]
  },
  {
   "cell_type": "code",
   "execution_count": 46,
   "metadata": {},
   "outputs": [],
   "source": [
    "preds = rf.predict(X_valid_v30)"
   ]
  },
  {
   "cell_type": "code",
   "execution_count": 47,
   "metadata": {},
   "outputs": [
    {
     "data": {
      "text/plain": [
       "0.97875"
      ]
     },
     "execution_count": 47,
     "metadata": {},
     "output_type": "execute_result"
    }
   ],
   "source": [
    "accuracy_score(y_valid_v30, preds)"
   ]
  },
  {
   "cell_type": "code",
   "execution_count": 48,
   "metadata": {},
   "outputs": [
    {
     "data": {
      "text/plain": [
       "array([[18742,   151],\n",
       "       [  274,   833]], dtype=int64)"
      ]
     },
     "execution_count": 48,
     "metadata": {},
     "output_type": "execute_result"
    }
   ],
   "source": [
    "confusion_matrix(y_valid_v30, preds)"
   ]
  },
  {
   "cell_type": "code",
   "execution_count": 49,
   "metadata": {},
   "outputs": [
    {
     "name": "stdout",
     "output_type": "stream",
     "text": [
      "              precision    recall  f1-score   support\n",
      "\n",
      "           0       0.99      0.99      0.99     18893\n",
      "           1       0.85      0.75      0.80      1107\n",
      "\n",
      "   micro avg       0.98      0.98      0.98     20000\n",
      "   macro avg       0.92      0.87      0.89     20000\n",
      "weighted avg       0.98      0.98      0.98     20000\n",
      "\n"
     ]
    }
   ],
   "source": [
    "print(classification_report(y_valid_v30, preds))"
   ]
  },
  {
   "cell_type": "code",
   "execution_count": 50,
   "metadata": {
    "collapsed": true
   },
   "outputs": [
    {
     "data": {
      "text/plain": [
       "<matplotlib.axes._subplots.AxesSubplot at 0x593cdd8>"
      ]
     },
     "execution_count": 50,
     "metadata": {},
     "output_type": "execute_result"
    },
    {
     "data": {
      "image/png": "[encoded data removed]",
      "text/plain": [
       "<Figure size 720x720 with 1 Axes>"
      ]
     },
     "metadata": {
      "needs_background": "light"
     },
     "output_type": "display_data"
    }
   ],
   "source": [
    "pd.DataFrame(rf.feature_importances_*100, index=x_v30.columns, \n",
    "             columns=['importance']).sort_values('importance', ascending=True).plot.barh(figsize = (10,10))"
   ]
  },
  {
   "cell_type": "markdown",
   "metadata": {},
   "source": [
    "### RF without V28 (Best Model)"
   ]
  },
  {
   "cell_type": "code",
   "execution_count": 51,
   "metadata": {},
   "outputs": [],
   "source": [
    "x_v28 = df.drop(['R', 'Target', 'V28'], axis=1)\n",
    "y_v28 = df['Target']"
   ]
  },
  {
   "cell_type": "code",
   "execution_count": 54,
   "metadata": {},
   "outputs": [],
   "source": [
    "X_train_v28, X_valid_v28, y_train_v28, y_valid_v28 = train_test_split(x_v28, y_v28, stratify = y_v28, test_size = 0.2, random_state = 42)"
   ]
  },
  {
   "cell_type": "code",
   "execution_count": 55,
   "metadata": {},
   "outputs": [
    {
     "data": {
      "text/plain": [
       "RandomForestClassifier(bootstrap=True, class_weight=None, criterion='entropy',\n",
       "            max_depth=None, max_features=0.9, max_leaf_nodes=None,\n",
       "            min_impurity_decrease=0.0, min_impurity_split=None,\n",
       "            min_samples_leaf=1, min_samples_split=2,\n",
       "            min_weight_fraction_leaf=0.0, n_estimators=80, n_jobs=-1,\n",
       "            oob_score=False, random_state=123, verbose=0, warm_start=False)"
      ]
     },
     "execution_count": 55,
     "metadata": {},
     "output_type": "execute_result"
    }
   ],
   "source": [
    "rf = RandomForestClassifier(n_jobs=-1, n_estimators=80, max_features=0.9, criterion='entropy', random_state = 123)\n",
    "rf.fit(X_train_v28, y_train_v28)"
   ]
  },
  {
   "cell_type": "code",
   "execution_count": 56,
   "metadata": {},
   "outputs": [],
   "source": [
    "preds = rf.predict(X_valid_v28)"
   ]
  },
  {
   "cell_type": "code",
   "execution_count": 57,
   "metadata": {},
   "outputs": [
    {
     "data": {
      "text/plain": [
       "0.9853"
      ]
     },
     "execution_count": 57,
     "metadata": {},
     "output_type": "execute_result"
    }
   ],
   "source": [
    "accuracy_score(y_valid_v28, preds)"
   ]
  },
  {
   "cell_type": "code",
   "execution_count": 58,
   "metadata": {},
   "outputs": [
    {
     "data": {
      "text/plain": [
       "array([[18780,   113],\n",
       "       [  181,   926]], dtype=int64)"
      ]
     },
     "execution_count": 58,
     "metadata": {},
     "output_type": "execute_result"
    }
   ],
   "source": [
    "confusion_matrix(y_valid_v28, preds)"
   ]
  },
  {
   "cell_type": "code",
   "execution_count": 59,
   "metadata": {
    "scrolled": true
   },
   "outputs": [
    {
     "name": "stdout",
     "output_type": "stream",
     "text": [
      "              precision    recall  f1-score   support\n",
      "\n",
      "           0       0.99      0.99      0.99     18893\n",
      "           1       0.89      0.84      0.86      1107\n",
      "\n",
      "   micro avg       0.99      0.99      0.99     20000\n",
      "   macro avg       0.94      0.92      0.93     20000\n",
      "weighted avg       0.98      0.99      0.99     20000\n",
      "\n"
     ]
    }
   ],
   "source": [
    "print(classification_report(y_valid_v28, preds))"
   ]
  },
  {
   "cell_type": "code",
   "execution_count": 60,
   "metadata": {
    "scrolled": false
   },
   "outputs": [
    {
     "data": {
      "text/plain": [
       "<matplotlib.axes._subplots.AxesSubplot at 0x19e5bc50>"
      ]
     },
     "execution_count": 60,
     "metadata": {},
     "output_type": "execute_result"
    },
    {
     "data": {
      "image/png": "[encoded data removed]",
      "text/plain": [
       "<Figure size 720x720 with 1 Axes>"
      ]
     },
     "metadata": {
      "needs_background": "light"
     },
     "output_type": "display_data"
    }
   ],
   "source": [
    "pd.DataFrame(rf.feature_importances_*100, index=x_v28.columns, \n",
    "             columns=['importance']).sort_values('importance', ascending=True).plot.barh(figsize = (10,10))"
   ]
  },
  {
   "cell_type": "markdown",
   "metadata": {},
   "source": [
    "#### why the model results got better when I took out V28?"
   ]
  },
  {
   "cell_type": "markdown",
   "metadata": {},
   "source": [
    "### correlation"
   ]
  },
  {
   "cell_type": "code",
   "execution_count": 61,
   "metadata": {
    "collapsed": true
   },
   "outputs": [
    {
     "data": {
      "text/plain": [
       "<matplotlib.axes._subplots.AxesSubplot at 0x1018feb8>"
      ]
     },
     "execution_count": 61,
     "metadata": {},
     "output_type": "execute_result"
    },
    {
     "data": {
      "image/png": "[encoded data removed]",
      "text/plain": [
       "<Figure size 1440x1440 with 2 Axes>"
      ]
     },
     "metadata": {},
     "output_type": "display_data"
    }
   ],
   "source": [
    "sns.set(rc={'figure.figsize':(20,20)})\n",
    "sns.heatmap(df.corr())"
   ]
  },
  {
   "cell_type": "code",
   "execution_count": 62,
   "metadata": {
    "collapsed": true
   },
   "outputs": [
    {
     "data": {
      "text/html": [
       "<div>\n",
       "<style scoped>\n",
       "    .dataframe tbody tr th:only-of-type {\n",
       "        vertical-align: middle;\n",
       "    }\n",
       "\n",
       "    .dataframe tbody tr th {\n",
       "        vertical-align: top;\n",
       "    }\n",
       "\n",
       "    .dataframe thead th {\n",
       "        text-align: right;\n",
       "    }\n",
       "</style>\n",
       "<table border=\"1\" class=\"dataframe\">\n",
       "  <thead>\n",
       "    <tr style=\"text-align: right;\">\n",
       "      <th></th>\n",
       "      <th>V1</th>\n",
       "      <th>V2</th>\n",
       "      <th>V3</th>\n",
       "      <th>V4</th>\n",
       "      <th>V5</th>\n",
       "      <th>V6</th>\n",
       "      <th>V7</th>\n",
       "      <th>V8</th>\n",
       "      <th>V9</th>\n",
       "      <th>V10</th>\n",
       "      <th>V11</th>\n",
       "      <th>V12</th>\n",
       "      <th>V13</th>\n",
       "      <th>V14</th>\n",
       "      <th>V15</th>\n",
       "      <th>V16</th>\n",
       "      <th>V17</th>\n",
       "      <th>V18</th>\n",
       "      <th>V19</th>\n",
       "      <th>V20</th>\n",
       "      <th>V21</th>\n",
       "      <th>V22</th>\n",
       "      <th>V23</th>\n",
       "      <th>V24</th>\n",
       "      <th>V25</th>\n",
       "      <th>V26</th>\n",
       "      <th>V27</th>\n",
       "      <th>V28</th>\n",
       "      <th>V29</th>\n",
       "      <th>V30</th>\n",
       "      <th>R</th>\n",
       "      <th>Target</th>\n",
       "    </tr>\n",
       "  </thead>\n",
       "  <tbody>\n",
       "    <tr>\n",
       "      <th>V1</th>\n",
       "      <td>1.000000</td>\n",
       "      <td>0.120795</td>\n",
       "      <td>0.099686</td>\n",
       "      <td>0.901571</td>\n",
       "      <td>0.105794</td>\n",
       "      <td>0.107983</td>\n",
       "      <td>0.884398</td>\n",
       "      <td>0.106002</td>\n",
       "      <td>0.112181</td>\n",
       "      <td>0.887753</td>\n",
       "      <td>0.248615</td>\n",
       "      <td>-0.134792</td>\n",
       "      <td>0.034874</td>\n",
       "      <td>0.033536</td>\n",
       "      <td>-0.073034</td>\n",
       "      <td>0.727613</td>\n",
       "      <td>0.146492</td>\n",
       "      <td>0.139930</td>\n",
       "      <td>0.732726</td>\n",
       "      <td>0.288197</td>\n",
       "      <td>0.142985</td>\n",
       "      <td>0.727006</td>\n",
       "      <td>0.277886</td>\n",
       "      <td>0.134283</td>\n",
       "      <td>0.409042</td>\n",
       "      <td>0.213652</td>\n",
       "      <td>-0.057614</td>\n",
       "      <td>0.480836</td>\n",
       "      <td>0.205175</td>\n",
       "      <td>-0.041270</td>\n",
       "      <td>0.134034</td>\n",
       "      <td>0.273742</td>\n",
       "    </tr>\n",
       "    <tr>\n",
       "      <th>V2</th>\n",
       "      <td>0.120795</td>\n",
       "      <td>1.000000</td>\n",
       "      <td>0.151519</td>\n",
       "      <td>0.123796</td>\n",
       "      <td>0.868395</td>\n",
       "      <td>0.114735</td>\n",
       "      <td>0.125976</td>\n",
       "      <td>0.879316</td>\n",
       "      <td>0.114570</td>\n",
       "      <td>0.121020</td>\n",
       "      <td>0.471031</td>\n",
       "      <td>0.226304</td>\n",
       "      <td>-0.017597</td>\n",
       "      <td>0.044015</td>\n",
       "      <td>0.120276</td>\n",
       "      <td>0.153014</td>\n",
       "      <td>0.450262</td>\n",
       "      <td>0.289373</td>\n",
       "      <td>0.155316</td>\n",
       "      <td>0.793196</td>\n",
       "      <td>0.291581</td>\n",
       "      <td>0.153574</td>\n",
       "      <td>0.765353</td>\n",
       "      <td>0.281832</td>\n",
       "      <td>-0.048496</td>\n",
       "      <td>0.414113</td>\n",
       "      <td>0.234686</td>\n",
       "      <td>-0.063197</td>\n",
       "      <td>0.393382</td>\n",
       "      <td>0.182671</td>\n",
       "      <td>-0.042175</td>\n",
       "      <td>-0.097415</td>\n",
       "    </tr>\n",
       "    <tr>\n",
       "      <th>V3</th>\n",
       "      <td>0.099686</td>\n",
       "      <td>0.151519</td>\n",
       "      <td>1.000000</td>\n",
       "      <td>0.114626</td>\n",
       "      <td>0.142749</td>\n",
       "      <td>0.929368</td>\n",
       "      <td>0.103498</td>\n",
       "      <td>0.144389</td>\n",
       "      <td>0.947379</td>\n",
       "      <td>0.101004</td>\n",
       "      <td>-0.158606</td>\n",
       "      <td>0.403628</td>\n",
       "      <td>0.026864</td>\n",
       "      <td>-0.022071</td>\n",
       "      <td>0.187844</td>\n",
       "      <td>0.282359</td>\n",
       "      <td>0.094405</td>\n",
       "      <td>0.773506</td>\n",
       "      <td>0.287551</td>\n",
       "      <td>0.180083</td>\n",
       "      <td>0.777355</td>\n",
       "      <td>0.283831</td>\n",
       "      <td>0.174695</td>\n",
       "      <td>0.748598</td>\n",
       "      <td>0.227695</td>\n",
       "      <td>-0.051003</td>\n",
       "      <td>0.430935</td>\n",
       "      <td>0.268166</td>\n",
       "      <td>-0.049834</td>\n",
       "      <td>0.333942</td>\n",
       "      <td>-0.070594</td>\n",
       "      <td>-0.070375</td>\n",
       "    </tr>\n",
       "    <tr>\n",
       "      <th>V4</th>\n",
       "      <td>0.901571</td>\n",
       "      <td>0.123796</td>\n",
       "      <td>0.114626</td>\n",
       "      <td>1.000000</td>\n",
       "      <td>0.108200</td>\n",
       "      <td>0.127315</td>\n",
       "      <td>0.933622</td>\n",
       "      <td>0.107077</td>\n",
       "      <td>0.131669</td>\n",
       "      <td>0.904017</td>\n",
       "      <td>0.252333</td>\n",
       "      <td>-0.142599</td>\n",
       "      <td>0.035127</td>\n",
       "      <td>0.033908</td>\n",
       "      <td>-0.077826</td>\n",
       "      <td>0.755795</td>\n",
       "      <td>0.174372</td>\n",
       "      <td>0.157329</td>\n",
       "      <td>0.768542</td>\n",
       "      <td>0.300730</td>\n",
       "      <td>0.155907</td>\n",
       "      <td>0.762232</td>\n",
       "      <td>0.290230</td>\n",
       "      <td>0.150227</td>\n",
       "      <td>0.424069</td>\n",
       "      <td>0.222145</td>\n",
       "      <td>-0.056940</td>\n",
       "      <td>0.499013</td>\n",
       "      <td>0.214841</td>\n",
       "      <td>-0.043869</td>\n",
       "      <td>0.149970</td>\n",
       "      <td>0.306586</td>\n",
       "    </tr>\n",
       "    <tr>\n",
       "      <th>V5</th>\n",
       "      <td>0.105794</td>\n",
       "      <td>0.868395</td>\n",
       "      <td>0.142749</td>\n",
       "      <td>0.108200</td>\n",
       "      <td>1.000000</td>\n",
       "      <td>0.108983</td>\n",
       "      <td>0.110966</td>\n",
       "      <td>0.808927</td>\n",
       "      <td>0.107506</td>\n",
       "      <td>0.108247</td>\n",
       "      <td>0.461107</td>\n",
       "      <td>0.215739</td>\n",
       "      <td>-0.014078</td>\n",
       "      <td>0.045382</td>\n",
       "      <td>0.115420</td>\n",
       "      <td>0.135284</td>\n",
       "      <td>0.420347</td>\n",
       "      <td>0.271171</td>\n",
       "      <td>0.136523</td>\n",
       "      <td>0.747687</td>\n",
       "      <td>0.273459</td>\n",
       "      <td>0.135390</td>\n",
       "      <td>0.712916</td>\n",
       "      <td>0.263190</td>\n",
       "      <td>-0.048745</td>\n",
       "      <td>0.394082</td>\n",
       "      <td>0.218939</td>\n",
       "      <td>-0.058277</td>\n",
       "      <td>0.375017</td>\n",
       "      <td>0.171205</td>\n",
       "      <td>-0.035880</td>\n",
       "      <td>-0.080305</td>\n",
       "    </tr>\n",
       "    <tr>\n",
       "      <th>V6</th>\n",
       "      <td>0.107983</td>\n",
       "      <td>0.114735</td>\n",
       "      <td>0.929368</td>\n",
       "      <td>0.127315</td>\n",
       "      <td>0.108983</td>\n",
       "      <td>1.000000</td>\n",
       "      <td>0.112400</td>\n",
       "      <td>0.110911</td>\n",
       "      <td>0.920316</td>\n",
       "      <td>0.110309</td>\n",
       "      <td>-0.144546</td>\n",
       "      <td>0.422501</td>\n",
       "      <td>0.029182</td>\n",
       "      <td>-0.020037</td>\n",
       "      <td>0.198534</td>\n",
       "      <td>0.280631</td>\n",
       "      <td>0.076696</td>\n",
       "      <td>0.751031</td>\n",
       "      <td>0.286367</td>\n",
       "      <td>0.147004</td>\n",
       "      <td>0.755050</td>\n",
       "      <td>0.282103</td>\n",
       "      <td>0.143889</td>\n",
       "      <td>0.726681</td>\n",
       "      <td>0.225360</td>\n",
       "      <td>-0.057585</td>\n",
       "      <td>0.432841</td>\n",
       "      <td>0.265293</td>\n",
       "      <td>-0.055118</td>\n",
       "      <td>0.340420</td>\n",
       "      <td>-0.063311</td>\n",
       "      <td>-0.061729</td>\n",
       "    </tr>\n",
       "    <tr>\n",
       "      <th>V7</th>\n",
       "      <td>0.884398</td>\n",
       "      <td>0.125976</td>\n",
       "      <td>0.103498</td>\n",
       "      <td>0.933622</td>\n",
       "      <td>0.110966</td>\n",
       "      <td>0.112400</td>\n",
       "      <td>1.000000</td>\n",
       "      <td>0.113963</td>\n",
       "      <td>0.116289</td>\n",
       "      <td>0.889510</td>\n",
       "      <td>0.258091</td>\n",
       "      <td>-0.138694</td>\n",
       "      <td>0.035892</td>\n",
       "      <td>0.034470</td>\n",
       "      <td>-0.074634</td>\n",
       "      <td>0.749157</td>\n",
       "      <td>0.174756</td>\n",
       "      <td>0.146557</td>\n",
       "      <td>0.767808</td>\n",
       "      <td>0.300184</td>\n",
       "      <td>0.145399</td>\n",
       "      <td>0.755347</td>\n",
       "      <td>0.289809</td>\n",
       "      <td>0.149667</td>\n",
       "      <td>0.425318</td>\n",
       "      <td>0.222223</td>\n",
       "      <td>-0.059568</td>\n",
       "      <td>0.500535</td>\n",
       "      <td>0.214403</td>\n",
       "      <td>-0.045282</td>\n",
       "      <td>0.153760</td>\n",
       "      <td>0.313013</td>\n",
       "    </tr>\n",
       "    <tr>\n",
       "      <th>V8</th>\n",
       "      <td>0.106002</td>\n",
       "      <td>0.879316</td>\n",
       "      <td>0.144389</td>\n",
       "      <td>0.107077</td>\n",
       "      <td>0.808927</td>\n",
       "      <td>0.110911</td>\n",
       "      <td>0.113963</td>\n",
       "      <td>1.000000</td>\n",
       "      <td>0.110151</td>\n",
       "      <td>0.108252</td>\n",
       "      <td>0.461347</td>\n",
       "      <td>0.219779</td>\n",
       "      <td>-0.014972</td>\n",
       "      <td>0.044972</td>\n",
       "      <td>0.115673</td>\n",
       "      <td>0.143140</td>\n",
       "      <td>0.424416</td>\n",
       "      <td>0.277818</td>\n",
       "      <td>0.140020</td>\n",
       "      <td>0.748075</td>\n",
       "      <td>0.278150</td>\n",
       "      <td>0.134807</td>\n",
       "      <td>0.722836</td>\n",
       "      <td>0.268095</td>\n",
       "      <td>-0.052523</td>\n",
       "      <td>0.397562</td>\n",
       "      <td>0.221317</td>\n",
       "      <td>-0.062397</td>\n",
       "      <td>0.378018</td>\n",
       "      <td>0.174794</td>\n",
       "      <td>-0.037902</td>\n",
       "      <td>-0.095280</td>\n",
       "    </tr>\n",
       "    <tr>\n",
       "      <th>V9</th>\n",
       "      <td>0.112181</td>\n",
       "      <td>0.114570</td>\n",
       "      <td>0.947379</td>\n",
       "      <td>0.131669</td>\n",
       "      <td>0.107506</td>\n",
       "      <td>0.920316</td>\n",
       "      <td>0.116289</td>\n",
       "      <td>0.110151</td>\n",
       "      <td>1.000000</td>\n",
       "      <td>0.114233</td>\n",
       "      <td>-0.152267</td>\n",
       "      <td>0.420697</td>\n",
       "      <td>0.028573</td>\n",
       "      <td>-0.020121</td>\n",
       "      <td>0.196821</td>\n",
       "      <td>0.284946</td>\n",
       "      <td>0.079195</td>\n",
       "      <td>0.761606</td>\n",
       "      <td>0.290632</td>\n",
       "      <td>0.149085</td>\n",
       "      <td>0.763317</td>\n",
       "      <td>0.288069</td>\n",
       "      <td>0.144713</td>\n",
       "      <td>0.734961</td>\n",
       "      <td>0.228712</td>\n",
       "      <td>-0.052732</td>\n",
       "      <td>0.434814</td>\n",
       "      <td>0.269566</td>\n",
       "      <td>-0.057138</td>\n",
       "      <td>0.337303</td>\n",
       "      <td>-0.064662</td>\n",
       "      <td>-0.059439</td>\n",
       "    </tr>\n",
       "    <tr>\n",
       "      <th>V10</th>\n",
       "      <td>0.887753</td>\n",
       "      <td>0.121020</td>\n",
       "      <td>0.101004</td>\n",
       "      <td>0.904017</td>\n",
       "      <td>0.108247</td>\n",
       "      <td>0.110309</td>\n",
       "      <td>0.889510</td>\n",
       "      <td>0.108252</td>\n",
       "      <td>0.114233</td>\n",
       "      <td>1.000000</td>\n",
       "      <td>0.254917</td>\n",
       "      <td>-0.115460</td>\n",
       "      <td>0.036582</td>\n",
       "      <td>0.034759</td>\n",
       "      <td>-0.069998</td>\n",
       "      <td>0.742738</td>\n",
       "      <td>0.170922</td>\n",
       "      <td>0.140984</td>\n",
       "      <td>0.744973</td>\n",
       "      <td>0.292624</td>\n",
       "      <td>0.142753</td>\n",
       "      <td>0.740477</td>\n",
       "      <td>0.282336</td>\n",
       "      <td>0.134992</td>\n",
       "      <td>0.421217</td>\n",
       "      <td>0.217387</td>\n",
       "      <td>-0.057058</td>\n",
       "      <td>0.496439</td>\n",
       "      <td>0.217900</td>\n",
       "      <td>-0.032337</td>\n",
       "      <td>0.158827</td>\n",
       "      <td>0.316238</td>\n",
       "    </tr>\n",
       "    <tr>\n",
       "      <th>V11</th>\n",
       "      <td>0.248615</td>\n",
       "      <td>0.471031</td>\n",
       "      <td>-0.158606</td>\n",
       "      <td>0.252333</td>\n",
       "      <td>0.461107</td>\n",
       "      <td>-0.144546</td>\n",
       "      <td>0.258091</td>\n",
       "      <td>0.461347</td>\n",
       "      <td>-0.152267</td>\n",
       "      <td>0.254917</td>\n",
       "      <td>1.000000</td>\n",
       "      <td>-0.024026</td>\n",
       "      <td>-0.006968</td>\n",
       "      <td>0.124727</td>\n",
       "      <td>-0.009518</td>\n",
       "      <td>0.140773</td>\n",
       "      <td>0.342936</td>\n",
       "      <td>0.044132</td>\n",
       "      <td>0.144004</td>\n",
       "      <td>0.601548</td>\n",
       "      <td>0.043889</td>\n",
       "      <td>0.140600</td>\n",
       "      <td>0.578971</td>\n",
       "      <td>0.042836</td>\n",
       "      <td>-0.025546</td>\n",
       "      <td>0.537333</td>\n",
       "      <td>0.024922</td>\n",
       "      <td>-0.031423</td>\n",
       "      <td>0.514997</td>\n",
       "      <td>0.019441</td>\n",
       "      <td>-0.039239</td>\n",
       "      <td>-0.070026</td>\n",
       "    </tr>\n",
       "    <tr>\n",
       "      <th>V12</th>\n",
       "      <td>-0.134792</td>\n",
       "      <td>0.226304</td>\n",
       "      <td>0.403628</td>\n",
       "      <td>-0.142599</td>\n",
       "      <td>0.215739</td>\n",
       "      <td>0.422501</td>\n",
       "      <td>-0.138694</td>\n",
       "      <td>0.219779</td>\n",
       "      <td>0.420697</td>\n",
       "      <td>-0.115460</td>\n",
       "      <td>-0.024026</td>\n",
       "      <td>1.000000</td>\n",
       "      <td>-0.001193</td>\n",
       "      <td>-0.007365</td>\n",
       "      <td>0.410851</td>\n",
       "      <td>0.036519</td>\n",
       "      <td>0.069840</td>\n",
       "      <td>0.518854</td>\n",
       "      <td>0.037057</td>\n",
       "      <td>0.131102</td>\n",
       "      <td>0.516306</td>\n",
       "      <td>0.036041</td>\n",
       "      <td>0.127317</td>\n",
       "      <td>0.495807</td>\n",
       "      <td>0.019154</td>\n",
       "      <td>-0.026036</td>\n",
       "      <td>0.506903</td>\n",
       "      <td>0.022704</td>\n",
       "      <td>-0.027420</td>\n",
       "      <td>0.458545</td>\n",
       "      <td>-0.037621</td>\n",
       "      <td>-0.058817</td>\n",
       "    </tr>\n",
       "    <tr>\n",
       "      <th>V13</th>\n",
       "      <td>0.034874</td>\n",
       "      <td>-0.017597</td>\n",
       "      <td>0.026864</td>\n",
       "      <td>0.035127</td>\n",
       "      <td>-0.014078</td>\n",
       "      <td>0.029182</td>\n",
       "      <td>0.035892</td>\n",
       "      <td>-0.014972</td>\n",
       "      <td>0.028573</td>\n",
       "      <td>0.036582</td>\n",
       "      <td>-0.006968</td>\n",
       "      <td>-0.001193</td>\n",
       "      <td>1.000000</td>\n",
       "      <td>-0.000650</td>\n",
       "      <td>0.002706</td>\n",
       "      <td>0.046280</td>\n",
       "      <td>0.001020</td>\n",
       "      <td>0.018524</td>\n",
       "      <td>0.047250</td>\n",
       "      <td>0.002841</td>\n",
       "      <td>0.022223</td>\n",
       "      <td>0.053919</td>\n",
       "      <td>0.002367</td>\n",
       "      <td>0.016377</td>\n",
       "      <td>0.048209</td>\n",
       "      <td>-0.000664</td>\n",
       "      <td>0.000934</td>\n",
       "      <td>0.064641</td>\n",
       "      <td>-0.000242</td>\n",
       "      <td>0.002389</td>\n",
       "      <td>0.045560</td>\n",
       "      <td>0.040388</td>\n",
       "    </tr>\n",
       "    <tr>\n",
       "      <th>V14</th>\n",
       "      <td>0.033536</td>\n",
       "      <td>0.044015</td>\n",
       "      <td>-0.022071</td>\n",
       "      <td>0.033908</td>\n",
       "      <td>0.045382</td>\n",
       "      <td>-0.020037</td>\n",
       "      <td>0.034470</td>\n",
       "      <td>0.044972</td>\n",
       "      <td>-0.020121</td>\n",
       "      <td>0.034759</td>\n",
       "      <td>0.124727</td>\n",
       "      <td>-0.007365</td>\n",
       "      <td>-0.000650</td>\n",
       "      <td>1.000000</td>\n",
       "      <td>-0.003542</td>\n",
       "      <td>0.019673</td>\n",
       "      <td>0.038666</td>\n",
       "      <td>0.004439</td>\n",
       "      <td>0.020638</td>\n",
       "      <td>0.061434</td>\n",
       "      <td>0.002999</td>\n",
       "      <td>0.021889</td>\n",
       "      <td>0.057908</td>\n",
       "      <td>0.002973</td>\n",
       "      <td>0.001257</td>\n",
       "      <td>0.073512</td>\n",
       "      <td>-0.000349</td>\n",
       "      <td>0.002994</td>\n",
       "      <td>0.059815</td>\n",
       "      <td>-0.000253</td>\n",
       "      <td>-0.003646</td>\n",
       "      <td>-0.006052</td>\n",
       "    </tr>\n",
       "    <tr>\n",
       "      <th>V15</th>\n",
       "      <td>-0.073034</td>\n",
       "      <td>0.120276</td>\n",
       "      <td>0.187844</td>\n",
       "      <td>-0.077826</td>\n",
       "      <td>0.115420</td>\n",
       "      <td>0.198534</td>\n",
       "      <td>-0.074634</td>\n",
       "      <td>0.115673</td>\n",
       "      <td>0.196821</td>\n",
       "      <td>-0.069998</td>\n",
       "      <td>-0.009518</td>\n",
       "      <td>0.410851</td>\n",
       "      <td>0.002706</td>\n",
       "      <td>-0.003542</td>\n",
       "      <td>1.000000</td>\n",
       "      <td>0.013750</td>\n",
       "      <td>0.047382</td>\n",
       "      <td>0.244603</td>\n",
       "      <td>0.013844</td>\n",
       "      <td>0.072129</td>\n",
       "      <td>0.289868</td>\n",
       "      <td>0.014488</td>\n",
       "      <td>0.069435</td>\n",
       "      <td>0.238445</td>\n",
       "      <td>0.004189</td>\n",
       "      <td>-0.005576</td>\n",
       "      <td>0.267875</td>\n",
       "      <td>0.004922</td>\n",
       "      <td>-0.006703</td>\n",
       "      <td>0.201628</td>\n",
       "      <td>-0.017659</td>\n",
       "      <td>-0.028396</td>\n",
       "    </tr>\n",
       "    <tr>\n",
       "      <th>V16</th>\n",
       "      <td>0.727613</td>\n",
       "      <td>0.153014</td>\n",
       "      <td>0.282359</td>\n",
       "      <td>0.755795</td>\n",
       "      <td>0.135284</td>\n",
       "      <td>0.280631</td>\n",
       "      <td>0.749157</td>\n",
       "      <td>0.143140</td>\n",
       "      <td>0.284946</td>\n",
       "      <td>0.742738</td>\n",
       "      <td>0.140773</td>\n",
       "      <td>0.036519</td>\n",
       "      <td>0.046280</td>\n",
       "      <td>0.019673</td>\n",
       "      <td>0.013750</td>\n",
       "      <td>1.000000</td>\n",
       "      <td>0.153766</td>\n",
       "      <td>0.260582</td>\n",
       "      <td>0.901566</td>\n",
       "      <td>0.270066</td>\n",
       "      <td>0.280533</td>\n",
       "      <td>0.894111</td>\n",
       "      <td>0.265132</td>\n",
       "      <td>0.251926</td>\n",
       "      <td>0.629025</td>\n",
       "      <td>0.165378</td>\n",
       "      <td>0.010417</td>\n",
       "      <td>0.739098</td>\n",
       "      <td>0.160140</td>\n",
       "      <td>0.008937</td>\n",
       "      <td>0.195512</td>\n",
       "      <td>0.356188</td>\n",
       "    </tr>\n",
       "    <tr>\n",
       "      <th>V17</th>\n",
       "      <td>0.146492</td>\n",
       "      <td>0.450262</td>\n",
       "      <td>0.094405</td>\n",
       "      <td>0.174372</td>\n",
       "      <td>0.420347</td>\n",
       "      <td>0.076696</td>\n",
       "      <td>0.174756</td>\n",
       "      <td>0.424416</td>\n",
       "      <td>0.079195</td>\n",
       "      <td>0.170922</td>\n",
       "      <td>0.342936</td>\n",
       "      <td>0.069840</td>\n",
       "      <td>0.001020</td>\n",
       "      <td>0.038666</td>\n",
       "      <td>0.047382</td>\n",
       "      <td>0.153766</td>\n",
       "      <td>1.000000</td>\n",
       "      <td>0.143698</td>\n",
       "      <td>0.157040</td>\n",
       "      <td>0.556439</td>\n",
       "      <td>0.146167</td>\n",
       "      <td>0.160555</td>\n",
       "      <td>0.538776</td>\n",
       "      <td>0.148781</td>\n",
       "      <td>0.006832</td>\n",
       "      <td>0.403792</td>\n",
       "      <td>0.096304</td>\n",
       "      <td>0.010333</td>\n",
       "      <td>0.351927</td>\n",
       "      <td>0.075967</td>\n",
       "      <td>-0.027259</td>\n",
       "      <td>-0.033791</td>\n",
       "    </tr>\n",
       "    <tr>\n",
       "      <th>V18</th>\n",
       "      <td>0.139930</td>\n",
       "      <td>0.289373</td>\n",
       "      <td>0.773506</td>\n",
       "      <td>0.157329</td>\n",
       "      <td>0.271171</td>\n",
       "      <td>0.751031</td>\n",
       "      <td>0.146557</td>\n",
       "      <td>0.277818</td>\n",
       "      <td>0.761606</td>\n",
       "      <td>0.140984</td>\n",
       "      <td>0.044132</td>\n",
       "      <td>0.518854</td>\n",
       "      <td>0.018524</td>\n",
       "      <td>0.004439</td>\n",
       "      <td>0.244603</td>\n",
       "      <td>0.260582</td>\n",
       "      <td>0.143698</td>\n",
       "      <td>1.000000</td>\n",
       "      <td>0.265493</td>\n",
       "      <td>0.271747</td>\n",
       "      <td>0.917596</td>\n",
       "      <td>0.261138</td>\n",
       "      <td>0.262713</td>\n",
       "      <td>0.884279</td>\n",
       "      <td>0.173076</td>\n",
       "      <td>0.007105</td>\n",
       "      <td>0.651500</td>\n",
       "      <td>0.202682</td>\n",
       "      <td>0.005054</td>\n",
       "      <td>0.518904</td>\n",
       "      <td>-0.165368</td>\n",
       "      <td>-0.221328</td>\n",
       "    </tr>\n",
       "    <tr>\n",
       "      <th>V19</th>\n",
       "      <td>0.732726</td>\n",
       "      <td>0.155316</td>\n",
       "      <td>0.287551</td>\n",
       "      <td>0.768542</td>\n",
       "      <td>0.136523</td>\n",
       "      <td>0.286367</td>\n",
       "      <td>0.767808</td>\n",
       "      <td>0.140020</td>\n",
       "      <td>0.290632</td>\n",
       "      <td>0.744973</td>\n",
       "      <td>0.144004</td>\n",
       "      <td>0.037057</td>\n",
       "      <td>0.047250</td>\n",
       "      <td>0.020638</td>\n",
       "      <td>0.013844</td>\n",
       "      <td>0.901566</td>\n",
       "      <td>0.157040</td>\n",
       "      <td>0.265493</td>\n",
       "      <td>1.000000</td>\n",
       "      <td>0.273967</td>\n",
       "      <td>0.265916</td>\n",
       "      <td>0.908946</td>\n",
       "      <td>0.264747</td>\n",
       "      <td>0.265803</td>\n",
       "      <td>0.659137</td>\n",
       "      <td>0.166430</td>\n",
       "      <td>0.009825</td>\n",
       "      <td>0.751193</td>\n",
       "      <td>0.170632</td>\n",
       "      <td>0.008777</td>\n",
       "      <td>0.178073</td>\n",
       "      <td>0.360346</td>\n",
       "    </tr>\n",
       "    <tr>\n",
       "      <th>V20</th>\n",
       "      <td>0.288197</td>\n",
       "      <td>0.793196</td>\n",
       "      <td>0.180083</td>\n",
       "      <td>0.300730</td>\n",
       "      <td>0.747687</td>\n",
       "      <td>0.147004</td>\n",
       "      <td>0.300184</td>\n",
       "      <td>0.748075</td>\n",
       "      <td>0.149085</td>\n",
       "      <td>0.292624</td>\n",
       "      <td>0.601548</td>\n",
       "      <td>0.131102</td>\n",
       "      <td>0.002841</td>\n",
       "      <td>0.061434</td>\n",
       "      <td>0.072129</td>\n",
       "      <td>0.270066</td>\n",
       "      <td>0.556439</td>\n",
       "      <td>0.271747</td>\n",
       "      <td>0.273967</td>\n",
       "      <td>1.000000</td>\n",
       "      <td>0.273852</td>\n",
       "      <td>0.270835</td>\n",
       "      <td>0.944183</td>\n",
       "      <td>0.264114</td>\n",
       "      <td>0.014650</td>\n",
       "      <td>0.641404</td>\n",
       "      <td>0.182664</td>\n",
       "      <td>0.014748</td>\n",
       "      <td>0.611368</td>\n",
       "      <td>0.141427</td>\n",
       "      <td>-0.063218</td>\n",
       "      <td>-0.107086</td>\n",
       "    </tr>\n",
       "    <tr>\n",
       "      <th>V21</th>\n",
       "      <td>0.142985</td>\n",
       "      <td>0.291581</td>\n",
       "      <td>0.777355</td>\n",
       "      <td>0.155907</td>\n",
       "      <td>0.273459</td>\n",
       "      <td>0.755050</td>\n",
       "      <td>0.145399</td>\n",
       "      <td>0.278150</td>\n",
       "      <td>0.763317</td>\n",
       "      <td>0.142753</td>\n",
       "      <td>0.043889</td>\n",
       "      <td>0.516306</td>\n",
       "      <td>0.022223</td>\n",
       "      <td>0.002999</td>\n",
       "      <td>0.289868</td>\n",
       "      <td>0.280533</td>\n",
       "      <td>0.146167</td>\n",
       "      <td>0.917596</td>\n",
       "      <td>0.265916</td>\n",
       "      <td>0.273852</td>\n",
       "      <td>1.000000</td>\n",
       "      <td>0.262100</td>\n",
       "      <td>0.266800</td>\n",
       "      <td>0.889424</td>\n",
       "      <td>0.175649</td>\n",
       "      <td>0.005780</td>\n",
       "      <td>0.654218</td>\n",
       "      <td>0.203692</td>\n",
       "      <td>0.004976</td>\n",
       "      <td>0.521195</td>\n",
       "      <td>-0.173350</td>\n",
       "      <td>-0.222264</td>\n",
       "    </tr>\n",
       "    <tr>\n",
       "      <th>V22</th>\n",
       "      <td>0.727006</td>\n",
       "      <td>0.153574</td>\n",
       "      <td>0.283831</td>\n",
       "      <td>0.762232</td>\n",
       "      <td>0.135390</td>\n",
       "      <td>0.282103</td>\n",
       "      <td>0.755347</td>\n",
       "      <td>0.134807</td>\n",
       "      <td>0.288069</td>\n",
       "      <td>0.740477</td>\n",
       "      <td>0.140600</td>\n",
       "      <td>0.036041</td>\n",
       "      <td>0.053919</td>\n",
       "      <td>0.021889</td>\n",
       "      <td>0.014488</td>\n",
       "      <td>0.894111</td>\n",
       "      <td>0.160555</td>\n",
       "      <td>0.261138</td>\n",
       "      <td>0.908946</td>\n",
       "      <td>0.270835</td>\n",
       "      <td>0.262100</td>\n",
       "      <td>1.000000</td>\n",
       "      <td>0.261908</td>\n",
       "      <td>0.251769</td>\n",
       "      <td>0.634746</td>\n",
       "      <td>0.186589</td>\n",
       "      <td>0.009655</td>\n",
       "      <td>0.744426</td>\n",
       "      <td>0.161151</td>\n",
       "      <td>0.006891</td>\n",
       "      <td>0.194875</td>\n",
       "      <td>0.386112</td>\n",
       "    </tr>\n",
       "    <tr>\n",
       "      <th>V23</th>\n",
       "      <td>0.277886</td>\n",
       "      <td>0.765353</td>\n",
       "      <td>0.174695</td>\n",
       "      <td>0.290230</td>\n",
       "      <td>0.712916</td>\n",
       "      <td>0.143889</td>\n",
       "      <td>0.289809</td>\n",
       "      <td>0.722836</td>\n",
       "      <td>0.144713</td>\n",
       "      <td>0.282336</td>\n",
       "      <td>0.578971</td>\n",
       "      <td>0.127317</td>\n",
       "      <td>0.002367</td>\n",
       "      <td>0.057908</td>\n",
       "      <td>0.069435</td>\n",
       "      <td>0.265132</td>\n",
       "      <td>0.538776</td>\n",
       "      <td>0.262713</td>\n",
       "      <td>0.264747</td>\n",
       "      <td>0.944183</td>\n",
       "      <td>0.266800</td>\n",
       "      <td>0.261908</td>\n",
       "      <td>1.000000</td>\n",
       "      <td>0.255468</td>\n",
       "      <td>0.013667</td>\n",
       "      <td>0.620605</td>\n",
       "      <td>0.176506</td>\n",
       "      <td>0.014285</td>\n",
       "      <td>0.591875</td>\n",
       "      <td>0.136099</td>\n",
       "      <td>-0.060738</td>\n",
       "      <td>-0.100096</td>\n",
       "    </tr>\n",
       "    <tr>\n",
       "      <th>V24</th>\n",
       "      <td>0.134283</td>\n",
       "      <td>0.281832</td>\n",
       "      <td>0.748598</td>\n",
       "      <td>0.150227</td>\n",
       "      <td>0.263190</td>\n",
       "      <td>0.726681</td>\n",
       "      <td>0.149667</td>\n",
       "      <td>0.268095</td>\n",
       "      <td>0.734961</td>\n",
       "      <td>0.134992</td>\n",
       "      <td>0.042836</td>\n",
       "      <td>0.495807</td>\n",
       "      <td>0.016377</td>\n",
       "      <td>0.002973</td>\n",
       "      <td>0.238445</td>\n",
       "      <td>0.251926</td>\n",
       "      <td>0.148781</td>\n",
       "      <td>0.884279</td>\n",
       "      <td>0.265803</td>\n",
       "      <td>0.264114</td>\n",
       "      <td>0.889424</td>\n",
       "      <td>0.251769</td>\n",
       "      <td>0.255468</td>\n",
       "      <td>1.000000</td>\n",
       "      <td>0.168727</td>\n",
       "      <td>0.007279</td>\n",
       "      <td>0.756091</td>\n",
       "      <td>0.215402</td>\n",
       "      <td>0.005387</td>\n",
       "      <td>0.490132</td>\n",
       "      <td>-0.155962</td>\n",
       "      <td>-0.212345</td>\n",
       "    </tr>\n",
       "    <tr>\n",
       "      <th>V25</th>\n",
       "      <td>0.409042</td>\n",
       "      <td>-0.048496</td>\n",
       "      <td>0.227695</td>\n",
       "      <td>0.424069</td>\n",
       "      <td>-0.048745</td>\n",
       "      <td>0.225360</td>\n",
       "      <td>0.425318</td>\n",
       "      <td>-0.052523</td>\n",
       "      <td>0.228712</td>\n",
       "      <td>0.421217</td>\n",
       "      <td>-0.025546</td>\n",
       "      <td>0.019154</td>\n",
       "      <td>0.048209</td>\n",
       "      <td>0.001257</td>\n",
       "      <td>0.004189</td>\n",
       "      <td>0.629025</td>\n",
       "      <td>0.006832</td>\n",
       "      <td>0.173076</td>\n",
       "      <td>0.659137</td>\n",
       "      <td>0.014650</td>\n",
       "      <td>0.175649</td>\n",
       "      <td>0.634746</td>\n",
       "      <td>0.013667</td>\n",
       "      <td>0.168727</td>\n",
       "      <td>1.000000</td>\n",
       "      <td>-0.014420</td>\n",
       "      <td>-0.012412</td>\n",
       "      <td>0.667316</td>\n",
       "      <td>-0.006194</td>\n",
       "      <td>-0.011143</td>\n",
       "      <td>0.148633</td>\n",
       "      <td>0.303585</td>\n",
       "    </tr>\n",
       "    <tr>\n",
       "      <th>V26</th>\n",
       "      <td>0.213652</td>\n",
       "      <td>0.414113</td>\n",
       "      <td>-0.051003</td>\n",
       "      <td>0.222145</td>\n",
       "      <td>0.394082</td>\n",
       "      <td>-0.057585</td>\n",
       "      <td>0.222223</td>\n",
       "      <td>0.397562</td>\n",
       "      <td>-0.052732</td>\n",
       "      <td>0.217387</td>\n",
       "      <td>0.537333</td>\n",
       "      <td>-0.026036</td>\n",
       "      <td>-0.000664</td>\n",
       "      <td>0.073512</td>\n",
       "      <td>-0.005576</td>\n",
       "      <td>0.165378</td>\n",
       "      <td>0.403792</td>\n",
       "      <td>0.007105</td>\n",
       "      <td>0.166430</td>\n",
       "      <td>0.641404</td>\n",
       "      <td>0.005780</td>\n",
       "      <td>0.186589</td>\n",
       "      <td>0.620605</td>\n",
       "      <td>0.007279</td>\n",
       "      <td>-0.014420</td>\n",
       "      <td>1.000000</td>\n",
       "      <td>-0.013995</td>\n",
       "      <td>-0.014434</td>\n",
       "      <td>0.510498</td>\n",
       "      <td>-0.012428</td>\n",
       "      <td>-0.020408</td>\n",
       "      <td>-0.033428</td>\n",
       "    </tr>\n",
       "    <tr>\n",
       "      <th>V27</th>\n",
       "      <td>-0.057614</td>\n",
       "      <td>0.234686</td>\n",
       "      <td>0.430935</td>\n",
       "      <td>-0.056940</td>\n",
       "      <td>0.218939</td>\n",
       "      <td>0.432841</td>\n",
       "      <td>-0.059568</td>\n",
       "      <td>0.221317</td>\n",
       "      <td>0.434814</td>\n",
       "      <td>-0.057058</td>\n",
       "      <td>0.024922</td>\n",
       "      <td>0.506903</td>\n",
       "      <td>0.000934</td>\n",
       "      <td>-0.000349</td>\n",
       "      <td>0.267875</td>\n",
       "      <td>0.010417</td>\n",
       "      <td>0.096304</td>\n",
       "      <td>0.651500</td>\n",
       "      <td>0.009825</td>\n",
       "      <td>0.182664</td>\n",
       "      <td>0.654218</td>\n",
       "      <td>0.009655</td>\n",
       "      <td>0.176506</td>\n",
       "      <td>0.756091</td>\n",
       "      <td>-0.012412</td>\n",
       "      <td>-0.013995</td>\n",
       "      <td>1.000000</td>\n",
       "      <td>-0.015300</td>\n",
       "      <td>-0.015303</td>\n",
       "      <td>0.539143</td>\n",
       "      <td>-0.190549</td>\n",
       "      <td>-0.268823</td>\n",
       "    </tr>\n",
       "    <tr>\n",
       "      <th>V28</th>\n",
       "      <td>0.480836</td>\n",
       "      <td>-0.063197</td>\n",
       "      <td>0.268166</td>\n",
       "      <td>0.499013</td>\n",
       "      <td>-0.058277</td>\n",
       "      <td>0.265293</td>\n",
       "      <td>0.500535</td>\n",
       "      <td>-0.062397</td>\n",
       "      <td>0.269566</td>\n",
       "      <td>0.496439</td>\n",
       "      <td>-0.031423</td>\n",
       "      <td>0.022704</td>\n",
       "      <td>0.064641</td>\n",
       "      <td>0.002994</td>\n",
       "      <td>0.004922</td>\n",
       "      <td>0.739098</td>\n",
       "      <td>0.010333</td>\n",
       "      <td>0.202682</td>\n",
       "      <td>0.751193</td>\n",
       "      <td>0.014748</td>\n",
       "      <td>0.203692</td>\n",
       "      <td>0.744426</td>\n",
       "      <td>0.014285</td>\n",
       "      <td>0.215402</td>\n",
       "      <td>0.667316</td>\n",
       "      <td>-0.014434</td>\n",
       "      <td>-0.015300</td>\n",
       "      <td>1.000000</td>\n",
       "      <td>-0.009332</td>\n",
       "      <td>-0.013917</td>\n",
       "      <td>0.163520</td>\n",
       "      <td>0.339980</td>\n",
       "    </tr>\n",
       "    <tr>\n",
       "      <th>V29</th>\n",
       "      <td>0.205175</td>\n",
       "      <td>0.393382</td>\n",
       "      <td>-0.049834</td>\n",
       "      <td>0.214841</td>\n",
       "      <td>0.375017</td>\n",
       "      <td>-0.055118</td>\n",
       "      <td>0.214403</td>\n",
       "      <td>0.378018</td>\n",
       "      <td>-0.057138</td>\n",
       "      <td>0.217900</td>\n",
       "      <td>0.514997</td>\n",
       "      <td>-0.027420</td>\n",
       "      <td>-0.000242</td>\n",
       "      <td>0.059815</td>\n",
       "      <td>-0.006703</td>\n",
       "      <td>0.160140</td>\n",
       "      <td>0.351927</td>\n",
       "      <td>0.005054</td>\n",
       "      <td>0.170632</td>\n",
       "      <td>0.611368</td>\n",
       "      <td>0.004976</td>\n",
       "      <td>0.161151</td>\n",
       "      <td>0.591875</td>\n",
       "      <td>0.005387</td>\n",
       "      <td>-0.006194</td>\n",
       "      <td>0.510498</td>\n",
       "      <td>-0.015303</td>\n",
       "      <td>-0.009332</td>\n",
       "      <td>1.000000</td>\n",
       "      <td>-0.015044</td>\n",
       "      <td>-0.023400</td>\n",
       "      <td>-0.033330</td>\n",
       "    </tr>\n",
       "    <tr>\n",
       "      <th>V30</th>\n",
       "      <td>-0.041270</td>\n",
       "      <td>0.182671</td>\n",
       "      <td>0.333942</td>\n",
       "      <td>-0.043869</td>\n",
       "      <td>0.171205</td>\n",
       "      <td>0.340420</td>\n",
       "      <td>-0.045282</td>\n",
       "      <td>0.174794</td>\n",
       "      <td>0.337303</td>\n",
       "      <td>-0.032337</td>\n",
       "      <td>0.019441</td>\n",
       "      <td>0.458545</td>\n",
       "      <td>0.002389</td>\n",
       "      <td>-0.000253</td>\n",
       "      <td>0.201628</td>\n",
       "      <td>0.008937</td>\n",
       "      <td>0.075967</td>\n",
       "      <td>0.518904</td>\n",
       "      <td>0.008777</td>\n",
       "      <td>0.141427</td>\n",
       "      <td>0.521195</td>\n",
       "      <td>0.006891</td>\n",
       "      <td>0.136099</td>\n",
       "      <td>0.490132</td>\n",
       "      <td>-0.011143</td>\n",
       "      <td>-0.012428</td>\n",
       "      <td>0.539143</td>\n",
       "      <td>-0.013917</td>\n",
       "      <td>-0.015044</td>\n",
       "      <td>1.000000</td>\n",
       "      <td>-0.398841</td>\n",
       "      <td>-0.265134</td>\n",
       "    </tr>\n",
       "    <tr>\n",
       "      <th>R</th>\n",
       "      <td>0.134034</td>\n",
       "      <td>-0.042175</td>\n",
       "      <td>-0.070594</td>\n",
       "      <td>0.149970</td>\n",
       "      <td>-0.035880</td>\n",
       "      <td>-0.063311</td>\n",
       "      <td>0.153760</td>\n",
       "      <td>-0.037902</td>\n",
       "      <td>-0.064662</td>\n",
       "      <td>0.158827</td>\n",
       "      <td>-0.039239</td>\n",
       "      <td>-0.037621</td>\n",
       "      <td>0.045560</td>\n",
       "      <td>-0.003646</td>\n",
       "      <td>-0.017659</td>\n",
       "      <td>0.195512</td>\n",
       "      <td>-0.027259</td>\n",
       "      <td>-0.165368</td>\n",
       "      <td>0.178073</td>\n",
       "      <td>-0.063218</td>\n",
       "      <td>-0.173350</td>\n",
       "      <td>0.194875</td>\n",
       "      <td>-0.060738</td>\n",
       "      <td>-0.155962</td>\n",
       "      <td>0.148633</td>\n",
       "      <td>-0.020408</td>\n",
       "      <td>-0.190549</td>\n",
       "      <td>0.163520</td>\n",
       "      <td>-0.023400</td>\n",
       "      <td>-0.398841</td>\n",
       "      <td>1.000000</td>\n",
       "      <td>0.573858</td>\n",
       "    </tr>\n",
       "    <tr>\n",
       "      <th>Target</th>\n",
       "      <td>0.273742</td>\n",
       "      <td>-0.097415</td>\n",
       "      <td>-0.070375</td>\n",
       "      <td>0.306586</td>\n",
       "      <td>-0.080305</td>\n",
       "      <td>-0.061729</td>\n",
       "      <td>0.313013</td>\n",
       "      <td>-0.095280</td>\n",
       "      <td>-0.059439</td>\n",
       "      <td>0.316238</td>\n",
       "      <td>-0.070026</td>\n",
       "      <td>-0.058817</td>\n",
       "      <td>0.040388</td>\n",
       "      <td>-0.006052</td>\n",
       "      <td>-0.028396</td>\n",
       "      <td>0.356188</td>\n",
       "      <td>-0.033791</td>\n",
       "      <td>-0.221328</td>\n",
       "      <td>0.360346</td>\n",
       "      <td>-0.107086</td>\n",
       "      <td>-0.222264</td>\n",
       "      <td>0.386112</td>\n",
       "      <td>-0.100096</td>\n",
       "      <td>-0.212345</td>\n",
       "      <td>0.303585</td>\n",
       "      <td>-0.033428</td>\n",
       "      <td>-0.268823</td>\n",
       "      <td>0.339980</td>\n",
       "      <td>-0.033330</td>\n",
       "      <td>-0.265134</td>\n",
       "      <td>0.573858</td>\n",
       "      <td>1.000000</td>\n",
       "    </tr>\n",
       "  </tbody>\n",
       "</table>\n",
       "</div>"
      ],
      "text/plain": [
       "              V1        V2        V3        V4        V5        V6        V7  \\\n",
       "V1      1.000000  0.120795  0.099686  0.901571  0.105794  0.107983  0.884398   \n",
       "V2      0.120795  1.000000  0.151519  0.123796  0.868395  0.114735  0.125976   \n",
       "V3      0.099686  0.151519  1.000000  0.114626  0.142749  0.929368  0.103498   \n",
       "V4      0.901571  0.123796  0.114626  1.000000  0.108200  0.127315  0.933622   \n",
       "V5      0.105794  0.868395  0.142749  0.108200  1.000000  0.108983  0.110966   \n",
       "V6      0.107983  0.114735  0.929368  0.127315  0.108983  1.000000  0.112400   \n",
       "V7      0.884398  0.125976  0.103498  0.933622  0.110966  0.112400  1.000000   \n",
       "V8      0.106002  0.879316  0.144389  0.107077  0.808927  0.110911  0.113963   \n",
       "V9      0.112181  0.114570  0.947379  0.131669  0.107506  0.920316  0.116289   \n",
       "V10     0.887753  0.121020  0.101004  0.904017  0.108247  0.110309  0.889510   \n",
       "V11     0.248615  0.471031 -0.158606  0.252333  0.461107 -0.144546  0.258091   \n",
       "V12    -0.134792  0.226304  0.403628 -0.142599  0.215739  0.422501 -0.138694   \n",
       "V13     0.034874 -0.017597  0.026864  0.035127 -0.014078  0.029182  0.035892   \n",
       "V14     0.033536  0.044015 -0.022071  0.033908  0.045382 -0.020037  0.034470   \n",
       "V15    -0.073034  0.120276  0.187844 -0.077826  0.115420  0.198534 -0.074634   \n",
       "V16     0.727613  0.153014  0.282359  0.755795  0.135284  0.280631  0.749157   \n",
       "V17     0.146492  0.450262  0.094405  0.174372  0.420347  0.076696  0.174756   \n",
       "V18     0.139930  0.289373  0.773506  0.157329  0.271171  0.751031  0.146557   \n",
       "V19     0.732726  0.155316  0.287551  0.768542  0.136523  0.286367  0.767808   \n",
       "V20     0.288197  0.793196  0.180083  0.300730  0.747687  0.147004  0.300184   \n",
       "V21     0.142985  0.291581  0.777355  0.155907  0.273459  0.755050  0.145399   \n",
       "V22     0.727006  0.153574  0.283831  0.762232  0.135390  0.282103  0.755347   \n",
       "V23     0.277886  0.765353  0.174695  0.290230  0.712916  0.143889  0.289809   \n",
       "V24     0.134283  0.281832  0.748598  0.150227  0.263190  0.726681  0.149667   \n",
       "V25     0.409042 -0.048496  0.227695  0.424069 -0.048745  0.225360  0.425318   \n",
       "V26     0.213652  0.414113 -0.051003  0.222145  0.394082 -0.057585  0.222223   \n",
       "V27    -0.057614  0.234686  0.430935 -0.056940  0.218939  0.432841 -0.059568   \n",
       "V28     0.480836 -0.063197  0.268166  0.499013 -0.058277  0.265293  0.500535   \n",
       "V29     0.205175  0.393382 -0.049834  0.214841  0.375017 -0.055118  0.214403   \n",
       "V30    -0.041270  0.182671  0.333942 -0.043869  0.171205  0.340420 -0.045282   \n",
       "R       0.134034 -0.042175 -0.070594  0.149970 -0.035880 -0.063311  0.153760   \n",
       "Target  0.273742 -0.097415 -0.070375  0.306586 -0.080305 -0.061729  0.313013   \n",
       "\n",
       "              V8        V9       V10       V11       V12       V13       V14  \\\n",
       "V1      0.106002  0.112181  0.887753  0.248615 -0.134792  0.034874  0.033536   \n",
       "V2      0.879316  0.114570  0.121020  0.471031  0.226304 -0.017597  0.044015   \n",
       "V3      0.144389  0.947379  0.101004 -0.158606  0.403628  0.026864 -0.022071   \n",
       "V4      0.107077  0.131669  0.904017  0.252333 -0.142599  0.035127  0.033908   \n",
       "V5      0.808927  0.107506  0.108247  0.461107  0.215739 -0.014078  0.045382   \n",
       "V6      0.110911  0.920316  0.110309 -0.144546  0.422501  0.029182 -0.020037   \n",
       "V7      0.113963  0.116289  0.889510  0.258091 -0.138694  0.035892  0.034470   \n",
       "V8      1.000000  0.110151  0.108252  0.461347  0.219779 -0.014972  0.044972   \n",
       "V9      0.110151  1.000000  0.114233 -0.152267  0.420697  0.028573 -0.020121   \n",
       "V10     0.108252  0.114233  1.000000  0.254917 -0.115460  0.036582  0.034759   \n",
       "V11     0.461347 -0.152267  0.254917  1.000000 -0.024026 -0.006968  0.124727   \n",
       "V12     0.219779  0.420697 -0.115460 -0.024026  1.000000 -0.001193 -0.007365   \n",
       "V13    -0.014972  0.028573  0.036582 -0.006968 -0.001193  1.000000 -0.000650   \n",
       "V14     0.044972 -0.020121  0.034759  0.124727 -0.007365 -0.000650  1.000000   \n",
       "V15     0.115673  0.196821 -0.069998 -0.009518  0.410851  0.002706 -0.003542   \n",
       "V16     0.143140  0.284946  0.742738  0.140773  0.036519  0.046280  0.019673   \n",
       "V17     0.424416  0.079195  0.170922  0.342936  0.069840  0.001020  0.038666   \n",
       "V18     0.277818  0.761606  0.140984  0.044132  0.518854  0.018524  0.004439   \n",
       "V19     0.140020  0.290632  0.744973  0.144004  0.037057  0.047250  0.020638   \n",
       "V20     0.748075  0.149085  0.292624  0.601548  0.131102  0.002841  0.061434   \n",
       "V21     0.278150  0.763317  0.142753  0.043889  0.516306  0.022223  0.002999   \n",
       "V22     0.134807  0.288069  0.740477  0.140600  0.036041  0.053919  0.021889   \n",
       "V23     0.722836  0.144713  0.282336  0.578971  0.127317  0.002367  0.057908   \n",
       "V24     0.268095  0.734961  0.134992  0.042836  0.495807  0.016377  0.002973   \n",
       "V25    -0.052523  0.228712  0.421217 -0.025546  0.019154  0.048209  0.001257   \n",
       "V26     0.397562 -0.052732  0.217387  0.537333 -0.026036 -0.000664  0.073512   \n",
       "V27     0.221317  0.434814 -0.057058  0.024922  0.506903  0.000934 -0.000349   \n",
       "V28    -0.062397  0.269566  0.496439 -0.031423  0.022704  0.064641  0.002994   \n",
       "V29     0.378018 -0.057138  0.217900  0.514997 -0.027420 -0.000242  0.059815   \n",
       "V30     0.174794  0.337303 -0.032337  0.019441  0.458545  0.002389 -0.000253   \n",
       "R      -0.037902 -0.064662  0.158827 -0.039239 -0.037621  0.045560 -0.003646   \n",
       "Target -0.095280 -0.059439  0.316238 -0.070026 -0.058817  0.040388 -0.006052   \n",
       "\n",
       "             V15       V16       V17       V18       V19       V20       V21  \\\n",
       "V1     -0.073034  0.727613  0.146492  0.139930  0.732726  0.288197  0.142985   \n",
       "V2      0.120276  0.153014  0.450262  0.289373  0.155316  0.793196  0.291581   \n",
       "V3      0.187844  0.282359  0.094405  0.773506  0.287551  0.180083  0.777355   \n",
       "V4     -0.077826  0.755795  0.174372  0.157329  0.768542  0.300730  0.155907   \n",
       "V5      0.115420  0.135284  0.420347  0.271171  0.136523  0.747687  0.273459   \n",
       "V6      0.198534  0.280631  0.076696  0.751031  0.286367  0.147004  0.755050   \n",
       "V7     -0.074634  0.749157  0.174756  0.146557  0.767808  0.300184  0.145399   \n",
       "V8      0.115673  0.143140  0.424416  0.277818  0.140020  0.748075  0.278150   \n",
       "V9      0.196821  0.284946  0.079195  0.761606  0.290632  0.149085  0.763317   \n",
       "V10    -0.069998  0.742738  0.170922  0.140984  0.744973  0.292624  0.142753   \n",
       "V11    -0.009518  0.140773  0.342936  0.044132  0.144004  0.601548  0.043889   \n",
       "V12     0.410851  0.036519  0.069840  0.518854  0.037057  0.131102  0.516306   \n",
       "V13     0.002706  0.046280  0.001020  0.018524  0.047250  0.002841  0.022223   \n",
       "V14    -0.003542  0.019673  0.038666  0.004439  0.020638  0.061434  0.002999   \n",
       "V15     1.000000  0.013750  0.047382  0.244603  0.013844  0.072129  0.289868   \n",
       "V16     0.013750  1.000000  0.153766  0.260582  0.901566  0.270066  0.280533   \n",
       "V17     0.047382  0.153766  1.000000  0.143698  0.157040  0.556439  0.146167   \n",
       "V18     0.244603  0.260582  0.143698  1.000000  0.265493  0.271747  0.917596   \n",
       "V19     0.013844  0.901566  0.157040  0.265493  1.000000  0.273967  0.265916   \n",
       "V20     0.072129  0.270066  0.556439  0.271747  0.273967  1.000000  0.273852   \n",
       "V21     0.289868  0.280533  0.146167  0.917596  0.265916  0.273852  1.000000   \n",
       "V22     0.014488  0.894111  0.160555  0.261138  0.908946  0.270835  0.262100   \n",
       "V23     0.069435  0.265132  0.538776  0.262713  0.264747  0.944183  0.266800   \n",
       "V24     0.238445  0.251926  0.148781  0.884279  0.265803  0.264114  0.889424   \n",
       "V25     0.004189  0.629025  0.006832  0.173076  0.659137  0.014650  0.175649   \n",
       "V26    -0.005576  0.165378  0.403792  0.007105  0.166430  0.641404  0.005780   \n",
       "V27     0.267875  0.010417  0.096304  0.651500  0.009825  0.182664  0.654218   \n",
       "V28     0.004922  0.739098  0.010333  0.202682  0.751193  0.014748  0.203692   \n",
       "V29    -0.006703  0.160140  0.351927  0.005054  0.170632  0.611368  0.004976   \n",
       "V30     0.201628  0.008937  0.075967  0.518904  0.008777  0.141427  0.521195   \n",
       "R      -0.017659  0.195512 -0.027259 -0.165368  0.178073 -0.063218 -0.173350   \n",
       "Target -0.028396  0.356188 -0.033791 -0.221328  0.360346 -0.107086 -0.222264   \n",
       "\n",
       "             V22       V23       V24       V25       V26       V27       V28  \\\n",
       "V1      0.727006  0.277886  0.134283  0.409042  0.213652 -0.057614  0.480836   \n",
       "V2      0.153574  0.765353  0.281832 -0.048496  0.414113  0.234686 -0.063197   \n",
       "V3      0.283831  0.174695  0.748598  0.227695 -0.051003  0.430935  0.268166   \n",
       "V4      0.762232  0.290230  0.150227  0.424069  0.222145 -0.056940  0.499013   \n",
       "V5      0.135390  0.712916  0.263190 -0.048745  0.394082  0.218939 -0.058277   \n",
       "V6      0.282103  0.143889  0.726681  0.225360 -0.057585  0.432841  0.265293   \n",
       "V7      0.755347  0.289809  0.149667  0.425318  0.222223 -0.059568  0.500535   \n",
       "V8      0.134807  0.722836  0.268095 -0.052523  0.397562  0.221317 -0.062397   \n",
       "V9      0.288069  0.144713  0.734961  0.228712 -0.052732  0.434814  0.269566   \n",
       "V10     0.740477  0.282336  0.134992  0.421217  0.217387 -0.057058  0.496439   \n",
       "V11     0.140600  0.578971  0.042836 -0.025546  0.537333  0.024922 -0.031423   \n",
       "V12     0.036041  0.127317  0.495807  0.019154 -0.026036  0.506903  0.022704   \n",
       "V13     0.053919  0.002367  0.016377  0.048209 -0.000664  0.000934  0.064641   \n",
       "V14     0.021889  0.057908  0.002973  0.001257  0.073512 -0.000349  0.002994   \n",
       "V15     0.014488  0.069435  0.238445  0.004189 -0.005576  0.267875  0.004922   \n",
       "V16     0.894111  0.265132  0.251926  0.629025  0.165378  0.010417  0.739098   \n",
       "V17     0.160555  0.538776  0.148781  0.006832  0.403792  0.096304  0.010333   \n",
       "V18     0.261138  0.262713  0.884279  0.173076  0.007105  0.651500  0.202682   \n",
       "V19     0.908946  0.264747  0.265803  0.659137  0.166430  0.009825  0.751193   \n",
       "V20     0.270835  0.944183  0.264114  0.014650  0.641404  0.182664  0.014748   \n",
       "V21     0.262100  0.266800  0.889424  0.175649  0.005780  0.654218  0.203692   \n",
       "V22     1.000000  0.261908  0.251769  0.634746  0.186589  0.009655  0.744426   \n",
       "V23     0.261908  1.000000  0.255468  0.013667  0.620605  0.176506  0.014285   \n",
       "V24     0.251769  0.255468  1.000000  0.168727  0.007279  0.756091  0.215402   \n",
       "V25     0.634746  0.013667  0.168727  1.000000 -0.014420 -0.012412  0.667316   \n",
       "V26     0.186589  0.620605  0.007279 -0.014420  1.000000 -0.013995 -0.014434   \n",
       "V27     0.009655  0.176506  0.756091 -0.012412 -0.013995  1.000000 -0.015300   \n",
       "V28     0.744426  0.014285  0.215402  0.667316 -0.014434 -0.015300  1.000000   \n",
       "V29     0.161151  0.591875  0.005387 -0.006194  0.510498 -0.015303 -0.009332   \n",
       "V30     0.006891  0.136099  0.490132 -0.011143 -0.012428  0.539143 -0.013917   \n",
       "R       0.194875 -0.060738 -0.155962  0.148633 -0.020408 -0.190549  0.163520   \n",
       "Target  0.386112 -0.100096 -0.212345  0.303585 -0.033428 -0.268823  0.339980   \n",
       "\n",
       "             V29       V30         R    Target  \n",
       "V1      0.205175 -0.041270  0.134034  0.273742  \n",
       "V2      0.393382  0.182671 -0.042175 -0.097415  \n",
       "V3     -0.049834  0.333942 -0.070594 -0.070375  \n",
       "V4      0.214841 -0.043869  0.149970  0.306586  \n",
       "V5      0.375017  0.171205 -0.035880 -0.080305  \n",
       "V6     -0.055118  0.340420 -0.063311 -0.061729  \n",
       "V7      0.214403 -0.045282  0.153760  0.313013  \n",
       "V8      0.378018  0.174794 -0.037902 -0.095280  \n",
       "V9     -0.057138  0.337303 -0.064662 -0.059439  \n",
       "V10     0.217900 -0.032337  0.158827  0.316238  \n",
       "V11     0.514997  0.019441 -0.039239 -0.070026  \n",
       "V12    -0.027420  0.458545 -0.037621 -0.058817  \n",
       "V13    -0.000242  0.002389  0.045560  0.040388  \n",
       "V14     0.059815 -0.000253 -0.003646 -0.006052  \n",
       "V15    -0.006703  0.201628 -0.017659 -0.028396  \n",
       "V16     0.160140  0.008937  0.195512  0.356188  \n",
       "V17     0.351927  0.075967 -0.027259 -0.033791  \n",
       "V18     0.005054  0.518904 -0.165368 -0.221328  \n",
       "V19     0.170632  0.008777  0.178073  0.360346  \n",
       "V20     0.611368  0.141427 -0.063218 -0.107086  \n",
       "V21     0.004976  0.521195 -0.173350 -0.222264  \n",
       "V22     0.161151  0.006891  0.194875  0.386112  \n",
       "V23     0.591875  0.136099 -0.060738 -0.100096  \n",
       "V24     0.005387  0.490132 -0.155962 -0.212345  \n",
       "V25    -0.006194 -0.011143  0.148633  0.303585  \n",
       "V26     0.510498 -0.012428 -0.020408 -0.033428  \n",
       "V27    -0.015303  0.539143 -0.190549 -0.268823  \n",
       "V28    -0.009332 -0.013917  0.163520  0.339980  \n",
       "V29     1.000000 -0.015044 -0.023400 -0.033330  \n",
       "V30    -0.015044  1.000000 -0.398841 -0.265134  \n",
       "R      -0.023400 -0.398841  1.000000  0.573858  \n",
       "Target -0.033330 -0.265134  0.573858  1.000000  "
      ]
     },
     "metadata": {},
     "output_type": "display_data"
    }
   ],
   "source": [
    "display_all(df.corr())"
   ]
  },
  {
   "cell_type": "markdown",
   "metadata": {},
   "source": [
    "### RF without V28 and V25 () -- V22 is strongly correlated with V28 and moderately correlated with V25 \n",
    "(model performance has decreased)"
   ]
  },
  {
   "cell_type": "code",
   "execution_count": 63,
   "metadata": {},
   "outputs": [],
   "source": [
    "x_v28_v25 = df.drop(['R', 'Target', 'V28', 'V25'], axis=1)\n",
    "y_v28_v25 = df['Target']"
   ]
  },
  {
   "cell_type": "code",
   "execution_count": 64,
   "metadata": {},
   "outputs": [],
   "source": [
    "X_train_v28_v25, X_valid_v28_v25, y_train_v28_v25, y_valid_v28_v25 = train_test_split(x_v28_v25, y_v28_v25, stratify = y_v28_v25, test_size = 0.2, random_state = 42)"
   ]
  },
  {
   "cell_type": "code",
   "execution_count": 65,
   "metadata": {},
   "outputs": [
    {
     "data": {
      "text/plain": [
       "RandomForestClassifier(bootstrap=True, class_weight=None, criterion='entropy',\n",
       "            max_depth=None, max_features=0.9, max_leaf_nodes=None,\n",
       "            min_impurity_decrease=0.0, min_impurity_split=None,\n",
       "            min_samples_leaf=1, min_samples_split=2,\n",
       "            min_weight_fraction_leaf=0.0, n_estimators=80, n_jobs=-1,\n",
       "            oob_score=False, random_state=123, verbose=0, warm_start=False)"
      ]
     },
     "execution_count": 65,
     "metadata": {},
     "output_type": "execute_result"
    }
   ],
   "source": [
    "rf = RandomForestClassifier(n_jobs=-1, n_estimators=80, max_features=0.9, criterion='entropy', random_state = 123)\n",
    "rf.fit(X_train_v28_v25, y_train_v28_v25)"
   ]
  },
  {
   "cell_type": "code",
   "execution_count": 66,
   "metadata": {},
   "outputs": [],
   "source": [
    "preds = rf.predict(X_valid_v28_v25)"
   ]
  },
  {
   "cell_type": "code",
   "execution_count": 67,
   "metadata": {},
   "outputs": [
    {
     "data": {
      "text/plain": [
       "0.98425"
      ]
     },
     "execution_count": 67,
     "metadata": {},
     "output_type": "execute_result"
    }
   ],
   "source": [
    "accuracy_score(y_valid_v28_v25, preds)"
   ]
  },
  {
   "cell_type": "code",
   "execution_count": 68,
   "metadata": {},
   "outputs": [
    {
     "data": {
      "text/plain": [
       "array([[18773,   120],\n",
       "       [  195,   912]], dtype=int64)"
      ]
     },
     "execution_count": 68,
     "metadata": {},
     "output_type": "execute_result"
    }
   ],
   "source": [
    "confusion_matrix(y_valid_v28_v25, preds)"
   ]
  },
  {
   "cell_type": "code",
   "execution_count": 69,
   "metadata": {},
   "outputs": [
    {
     "name": "stdout",
     "output_type": "stream",
     "text": [
      "              precision    recall  f1-score   support\n",
      "\n",
      "           0       0.99      0.99      0.99     18893\n",
      "           1       0.88      0.82      0.85      1107\n",
      "\n",
      "   micro avg       0.98      0.98      0.98     20000\n",
      "   macro avg       0.94      0.91      0.92     20000\n",
      "weighted avg       0.98      0.98      0.98     20000\n",
      "\n"
     ]
    }
   ],
   "source": [
    "print(classification_report(y_valid_v28_v25, preds))"
   ]
  },
  {
   "cell_type": "code",
   "execution_count": 70,
   "metadata": {
    "collapsed": true
   },
   "outputs": [
    {
     "data": {
      "text/plain": [
       "<matplotlib.axes._subplots.AxesSubplot at 0x20b13470>"
      ]
     },
     "execution_count": 70,
     "metadata": {},
     "output_type": "execute_result"
    },
    {
     "data": {
      "image/png": "[encoded data removed]",
      "text/plain": [
       "<Figure size 720x720 with 1 Axes>"
      ]
     },
     "metadata": {},
     "output_type": "display_data"
    }
   ],
   "source": [
    "pd.DataFrame(rf.feature_importances_*100, index=x_v28_v25.columns, \n",
    "             columns=['importance']).sort_values('importance', ascending=True).plot.barh(figsize = (10,10))"
   ]
  },
  {
   "cell_type": "markdown",
   "metadata": {},
   "source": [
    "### RF with variables having importance > 4% from the best model \n",
    "(model performance has somewhat decreased, but now model has less variables(plus point))"
   ]
  },
  {
   "cell_type": "code",
   "execution_count": 71,
   "metadata": {},
   "outputs": [],
   "source": [
    "x_v_imp = df.drop(['R', 'Target', 'V2', 'V3', 'V4', 'V5', 'V6', 'V7', 'V8', 'V9', 'V10', 'V12', 'V13', 'V14', 'V15',\n",
    "                  'V18', 'V19', 'V21', 'V24', 'V27', 'V28', 'V29'], axis=1)\n",
    "y_v_imp = df['Target']"
   ]
  },
  {
   "cell_type": "code",
   "execution_count": 72,
   "metadata": {},
   "outputs": [],
   "source": [
    "X_train_v_imp, X_valid_v_imp, y_train_v_imp, y_valid_v_imp = train_test_split(x_v_imp, y_v_imp, stratify = y_v_imp, test_size = 0.2, random_state = 42)"
   ]
  },
  {
   "cell_type": "code",
   "execution_count": 73,
   "metadata": {},
   "outputs": [
    {
     "data": {
      "text/plain": [
       "RandomForestClassifier(bootstrap=True, class_weight=None, criterion='entropy',\n",
       "            max_depth=None, max_features=0.9, max_leaf_nodes=None,\n",
       "            min_impurity_decrease=0.0, min_impurity_split=None,\n",
       "            min_samples_leaf=1, min_samples_split=2,\n",
       "            min_weight_fraction_leaf=0.0, n_estimators=80, n_jobs=-1,\n",
       "            oob_score=False, random_state=123, verbose=0, warm_start=False)"
      ]
     },
     "execution_count": 73,
     "metadata": {},
     "output_type": "execute_result"
    }
   ],
   "source": [
    "rf = RandomForestClassifier(n_jobs=-1, n_estimators=80, max_features=0.9, criterion='entropy', random_state = 123)\n",
    "rf.fit(X_train_v_imp, y_train_v_imp)"
   ]
  },
  {
   "cell_type": "code",
   "execution_count": 74,
   "metadata": {},
   "outputs": [],
   "source": [
    "preds = rf.predict(X_valid_v_imp)"
   ]
  },
  {
   "cell_type": "code",
   "execution_count": 75,
   "metadata": {},
   "outputs": [
    {
     "data": {
      "text/plain": [
       "0.98405"
      ]
     },
     "execution_count": 75,
     "metadata": {},
     "output_type": "execute_result"
    }
   ],
   "source": [
    "accuracy_score(y_valid_v_imp, preds)"
   ]
  },
  {
   "cell_type": "code",
   "execution_count": 76,
   "metadata": {},
   "outputs": [
    {
     "data": {
      "text/plain": [
       "array([[18768,   125],\n",
       "       [  194,   913]], dtype=int64)"
      ]
     },
     "execution_count": 76,
     "metadata": {},
     "output_type": "execute_result"
    }
   ],
   "source": [
    "confusion_matrix(y_valid_v_imp, preds)"
   ]
  },
  {
   "cell_type": "code",
   "execution_count": 77,
   "metadata": {
    "scrolled": false
   },
   "outputs": [
    {
     "name": "stdout",
     "output_type": "stream",
     "text": [
      "              precision    recall  f1-score   support\n",
      "\n",
      "           0       0.99      0.99      0.99     18893\n",
      "           1       0.88      0.82      0.85      1107\n",
      "\n",
      "   micro avg       0.98      0.98      0.98     20000\n",
      "   macro avg       0.93      0.91      0.92     20000\n",
      "weighted avg       0.98      0.98      0.98     20000\n",
      "\n"
     ]
    }
   ],
   "source": [
    "print(classification_report(y_valid_v_imp, preds))"
   ]
  },
  {
   "cell_type": "code",
   "execution_count": 59,
   "metadata": {
    "scrolled": true
   },
   "outputs": [
    {
     "name": "stdout",
     "output_type": "stream",
     "text": [
      "              precision    recall  f1-score   support\n",
      "\n",
      "           0       0.99      0.99      0.99     18893\n",
      "           1       0.89      0.84      0.86      1107\n",
      "\n",
      "   micro avg       0.99      0.99      0.99     20000\n",
      "   macro avg       0.94      0.92      0.93     20000\n",
      "weighted avg       0.98      0.99      0.99     20000\n",
      "\n"
     ]
    }
   ],
   "source": [
    "print(classification_report(y_valid_v28, preds)) #best model results"
   ]
  },
  {
   "cell_type": "markdown",
   "metadata": {},
   "source": [
    "## Top 10 important variables"
   ]
  },
  {
   "cell_type": "code",
   "execution_count": 78,
   "metadata": {},
   "outputs": [
    {
     "data": {
      "text/plain": [
       "<matplotlib.axes._subplots.AxesSubplot at 0x20be7cc0>"
      ]
     },
     "execution_count": 78,
     "metadata": {},
     "output_type": "execute_result"
    },
    {
     "data": {
      "image/png": "[encoded data removed]",
      "text/plain": [
       "<Figure size 720x720 with 1 Axes>"
      ]
     },
     "metadata": {},
     "output_type": "display_data"
    }
   ],
   "source": [
    "pd.DataFrame(rf.feature_importances_*100, index=x_v_imp.columns, \n",
    "             columns=['importance']).sort_values('importance', ascending=True).plot.barh(figsize = (10,10))"
   ]
  },
  {
   "cell_type": "markdown",
   "metadata": {},
   "source": [
    "### checking multicollinearity "
   ]
  },
  {
   "cell_type": "code",
   "execution_count": 79,
   "metadata": {},
   "outputs": [],
   "source": [
    "from statsmodels.stats.outliers_influence import variance_inflation_factor    \n",
    "\n",
    "def calculate_vif_(X, thresh=5.0):\n",
    "    variables = list(range(X.shape[1]))\n",
    "    dropped = True\n",
    "    while dropped:\n",
    "        dropped = False\n",
    "        vif = [variance_inflation_factor(X.iloc[:, variables].values, ix)\n",
    "               for ix in range(X.iloc[:, variables].shape[1])]\n",
    "\n",
    "        maxloc = vif.index(max(vif))\n",
    "        if max(vif) > thresh:\n",
    "            print('dropping \\'' + X.iloc[:, variables].columns[maxloc] +\n",
    "                  '\\' at index: ' + str(maxloc))\n",
    "            del variables[maxloc]\n",
    "            dropped = True\n",
    "\n",
    "    print('Remaining variables:')\n",
    "    print(X.columns[variables])\n",
    "    return X.iloc[:, variables]"
   ]
  },
  {
   "cell_type": "code",
   "execution_count": 80,
   "metadata": {},
   "outputs": [],
   "source": [
    "x_vif = x.copy()"
   ]
  },
  {
   "cell_type": "code",
   "execution_count": 81,
   "metadata": {},
   "outputs": [
    {
     "data": {
      "text/plain": [
       "(100000, 30)"
      ]
     },
     "execution_count": 81,
     "metadata": {},
     "output_type": "execute_result"
    }
   ],
   "source": [
    "x_vif.shape"
   ]
  },
  {
   "cell_type": "markdown",
   "metadata": {},
   "source": [
    "### threshold = 10"
   ]
  },
  {
   "cell_type": "code",
   "execution_count": 82,
   "metadata": {},
   "outputs": [
    {
     "name": "stdout",
     "output_type": "stream",
     "text": [
      "dropping 'V3' at index: 2\n",
      "dropping 'V4' at index: 2\n",
      "dropping 'V20' at index: 17\n",
      "dropping 'V9' at index: 6\n",
      "dropping 'V2' at index: 1\n",
      "Remaining variables:\n",
      "Index(['V1', 'V5', 'V6', 'V7', 'V8', 'V10', 'V11', 'V12', 'V13', 'V14', 'V15',\n",
      "       'V16', 'V17', 'V18', 'V19', 'V21', 'V22', 'V23', 'V24', 'V25', 'V26',\n",
      "       'V27', 'V28', 'V29', 'V30'],\n",
      "      dtype='object')\n",
      "Wall time: 1min 13s\n"
     ]
    }
   ],
   "source": [
    "%time x_vif10 = calculate_vif_(x_vif, thresh=10)"
   ]
  },
  {
   "cell_type": "code",
   "execution_count": 83,
   "metadata": {},
   "outputs": [
    {
     "data": {
      "text/plain": [
       "(100000, 25)"
      ]
     },
     "execution_count": 83,
     "metadata": {},
     "output_type": "execute_result"
    }
   ],
   "source": [
    "x_vif10.shape"
   ]
  },
  {
   "cell_type": "markdown",
   "metadata": {},
   "source": [
    "### RF with vif = 10 (okish experiment)"
   ]
  },
  {
   "cell_type": "code",
   "execution_count": 84,
   "metadata": {},
   "outputs": [],
   "source": [
    "X_train_vif10, X_valid_vif10, y_train_vif10, y_valid_vif10 = train_test_split(x_vif10, y, stratify = y, test_size = 0.2, random_state = 42)"
   ]
  },
  {
   "cell_type": "code",
   "execution_count": 85,
   "metadata": {},
   "outputs": [
    {
     "data": {
      "text/plain": [
       "RandomForestClassifier(bootstrap=True, class_weight=None, criterion='entropy',\n",
       "            max_depth=None, max_features=0.9, max_leaf_nodes=None,\n",
       "            min_impurity_decrease=0.0, min_impurity_split=None,\n",
       "            min_samples_leaf=1, min_samples_split=2,\n",
       "            min_weight_fraction_leaf=0.0, n_estimators=80, n_jobs=-1,\n",
       "            oob_score=False, random_state=123, verbose=0, warm_start=False)"
      ]
     },
     "execution_count": 85,
     "metadata": {},
     "output_type": "execute_result"
    }
   ],
   "source": [
    "rf = RandomForestClassifier(n_jobs=-1, n_estimators=80, max_features=0.9, criterion='entropy', random_state = 123)\n",
    "rf.fit(X_train_vif10, y_train_vif10)"
   ]
  },
  {
   "cell_type": "code",
   "execution_count": 86,
   "metadata": {},
   "outputs": [],
   "source": [
    "preds = rf.predict(X_valid_vif10)"
   ]
  },
  {
   "cell_type": "code",
   "execution_count": 87,
   "metadata": {},
   "outputs": [
    {
     "data": {
      "text/plain": [
       "0.98465"
      ]
     },
     "execution_count": 87,
     "metadata": {},
     "output_type": "execute_result"
    }
   ],
   "source": [
    "accuracy_score(y_valid_vif10, preds)"
   ]
  },
  {
   "cell_type": "code",
   "execution_count": 88,
   "metadata": {},
   "outputs": [
    {
     "data": {
      "text/plain": [
       "array([[18772,   121],\n",
       "       [  186,   921]], dtype=int64)"
      ]
     },
     "execution_count": 88,
     "metadata": {},
     "output_type": "execute_result"
    }
   ],
   "source": [
    "confusion_matrix(y_valid_vif10, preds)"
   ]
  },
  {
   "cell_type": "code",
   "execution_count": 89,
   "metadata": {
    "scrolled": true
   },
   "outputs": [
    {
     "name": "stdout",
     "output_type": "stream",
     "text": [
      "              precision    recall  f1-score   support\n",
      "\n",
      "           0       0.99      0.99      0.99     18893\n",
      "           1       0.88      0.83      0.86      1107\n",
      "\n",
      "   micro avg       0.98      0.98      0.98     20000\n",
      "   macro avg       0.94      0.91      0.92     20000\n",
      "weighted avg       0.98      0.98      0.98     20000\n",
      "\n"
     ]
    }
   ],
   "source": [
    "print(classification_report(y_valid_vif10, preds))"
   ]
  },
  {
   "cell_type": "code",
   "execution_count": 90,
   "metadata": {
    "collapsed": true
   },
   "outputs": [
    {
     "data": {
      "text/plain": [
       "<matplotlib.axes._subplots.AxesSubplot at 0x10203240>"
      ]
     },
     "execution_count": 90,
     "metadata": {},
     "output_type": "execute_result"
    },
    {
     "data": {
      "image/png": "[encoded data removed]",
      "text/plain": [
       "<Figure size 720x720 with 1 Axes>"
      ]
     },
     "metadata": {},
     "output_type": "display_data"
    }
   ],
   "source": [
    "pd.DataFrame(rf.feature_importances_*100, index=x_vif10.columns, \n",
    "             columns=['importance']).sort_values('importance', ascending=True).plot.barh(figsize = (10,10))\n",
    "\n",
    "# 22,30,25,26,23,20,17,1,16,11"
   ]
  },
  {
   "cell_type": "markdown",
   "metadata": {},
   "source": [
    "### threshold = 5"
   ]
  },
  {
   "cell_type": "code",
   "execution_count": 91,
   "metadata": {},
   "outputs": [
    {
     "name": "stdout",
     "output_type": "stream",
     "text": [
      "dropping 'V3' at index: 2\n",
      "dropping 'V4' at index: 2\n",
      "dropping 'V20' at index: 17\n",
      "dropping 'V9' at index: 6\n",
      "dropping 'V2' at index: 1\n",
      "dropping 'V7' at index: 3\n",
      "dropping 'V21' at index: 14\n",
      "dropping 'V19' at index: 13\n",
      "dropping 'V10' at index: 4\n",
      "dropping 'V24' at index: 14\n",
      "dropping 'V22' at index: 12\n",
      "Remaining variables:\n",
      "Index(['V1', 'V5', 'V6', 'V8', 'V11', 'V12', 'V13', 'V14', 'V15', 'V16', 'V17',\n",
      "       'V18', 'V23', 'V25', 'V26', 'V27', 'V28', 'V29', 'V30'],\n",
      "      dtype='object')\n",
      "Wall time: 1min 55s\n"
     ]
    }
   ],
   "source": [
    "%time x_vif5 = calculate_vif_(x_vif, thresh=5)"
   ]
  },
  {
   "cell_type": "code",
   "execution_count": 92,
   "metadata": {},
   "outputs": [
    {
     "data": {
      "text/plain": [
       "(100000, 19)"
      ]
     },
     "execution_count": 92,
     "metadata": {},
     "output_type": "execute_result"
    }
   ],
   "source": [
    "x_vif5.shape"
   ]
  },
  {
   "cell_type": "markdown",
   "metadata": {},
   "source": [
    "### RF with vif = 5 (failed experiment)"
   ]
  },
  {
   "cell_type": "code",
   "execution_count": 93,
   "metadata": {},
   "outputs": [],
   "source": [
    "X_train_vif5, X_valid_vif5, y_train_vif5, y_valid_vif5 = train_test_split(x_vif5, y, stratify = y, test_size = 0.2, random_state = 42)"
   ]
  },
  {
   "cell_type": "code",
   "execution_count": 94,
   "metadata": {},
   "outputs": [
    {
     "data": {
      "text/plain": [
       "RandomForestClassifier(bootstrap=True, class_weight=None, criterion='entropy',\n",
       "            max_depth=None, max_features=0.9, max_leaf_nodes=None,\n",
       "            min_impurity_decrease=0.0, min_impurity_split=None,\n",
       "            min_samples_leaf=1, min_samples_split=2,\n",
       "            min_weight_fraction_leaf=0.0, n_estimators=80, n_jobs=-1,\n",
       "            oob_score=False, random_state=123, verbose=0, warm_start=False)"
      ]
     },
     "execution_count": 94,
     "metadata": {},
     "output_type": "execute_result"
    }
   ],
   "source": [
    "rf = RandomForestClassifier(n_jobs=-1, n_estimators=80, max_features=0.9, criterion='entropy', random_state = 123)\n",
    "rf.fit(X_train_vif5, y_train_vif5)"
   ]
  },
  {
   "cell_type": "code",
   "execution_count": 95,
   "metadata": {},
   "outputs": [],
   "source": [
    "preds = rf.predict(X_valid_vif5)"
   ]
  },
  {
   "cell_type": "code",
   "execution_count": 96,
   "metadata": {},
   "outputs": [
    {
     "data": {
      "text/plain": [
       "0.97945"
      ]
     },
     "execution_count": 96,
     "metadata": {},
     "output_type": "execute_result"
    }
   ],
   "source": [
    "accuracy_score(y_valid_vif5, preds)"
   ]
  },
  {
   "cell_type": "code",
   "execution_count": 97,
   "metadata": {},
   "outputs": [
    {
     "data": {
      "text/plain": [
       "array([[18758,   135],\n",
       "       [  276,   831]], dtype=int64)"
      ]
     },
     "execution_count": 97,
     "metadata": {},
     "output_type": "execute_result"
    }
   ],
   "source": [
    "confusion_matrix(y_valid_vif5, preds)"
   ]
  },
  {
   "cell_type": "code",
   "execution_count": 98,
   "metadata": {},
   "outputs": [
    {
     "name": "stdout",
     "output_type": "stream",
     "text": [
      "              precision    recall  f1-score   support\n",
      "\n",
      "           0       0.99      0.99      0.99     18893\n",
      "           1       0.86      0.75      0.80      1107\n",
      "\n",
      "   micro avg       0.98      0.98      0.98     20000\n",
      "   macro avg       0.92      0.87      0.90     20000\n",
      "weighted avg       0.98      0.98      0.98     20000\n",
      "\n"
     ]
    }
   ],
   "source": [
    "print(classification_report(y_valid_vif5, preds))"
   ]
  },
  {
   "cell_type": "code",
   "execution_count": 99,
   "metadata": {
    "collapsed": true
   },
   "outputs": [
    {
     "data": {
      "text/plain": [
       "<matplotlib.axes._subplots.AxesSubplot at 0x21ede898>"
      ]
     },
     "execution_count": 99,
     "metadata": {},
     "output_type": "execute_result"
    },
    {
     "data": {
      "image/png": "[encoded data removed]",
      "text/plain": [
       "<Figure size 720x720 with 1 Axes>"
      ]
     },
     "metadata": {},
     "output_type": "display_data"
    }
   ],
   "source": [
    "pd.DataFrame(rf.feature_importances_*100, index=x_vif5.columns, \n",
    "             columns=['importance']).sort_values('importance', ascending=True).plot.barh(figsize = (10,10))"
   ]
  },
  {
   "cell_type": "code",
   "execution_count": 100,
   "metadata": {},
   "outputs": [],
   "source": [
    "# some of the variables are not normal (Tableau)\n",
    "# df.to_csv(f\"{path}case_study.csv\", index = False)"
   ]
  },
  {
   "cell_type": "markdown",
   "metadata": {},
   "source": [
    "### standardized these variables and ran the RF model (Top 10 variables)"
   ]
  },
  {
   "cell_type": "code",
   "execution_count": 351,
   "metadata": {
    "collapsed": true
   },
   "outputs": [
    {
     "name": "stderr",
     "output_type": "stream",
     "text": [
      "C:\\Users\\ps063n\\AppData\\Local\\Continuum\\anaconda3\\lib\\site-packages\\ipykernel_launcher.py:2: SettingWithCopyWarning: \n",
      "A value is trying to be set on a copy of a slice from a DataFrame.\n",
      "Try using .loc[row_indexer,col_indexer] = value instead\n",
      "\n",
      "See the caveats in the documentation: http://pandas.pydata.org/pandas-docs/stable/indexing.html#indexing-view-versus-copy\n",
      "  \n",
      "C:\\Users\\ps063n\\AppData\\Local\\Continuum\\anaconda3\\lib\\site-packages\\ipykernel_launcher.py:5: SettingWithCopyWarning: \n",
      "A value is trying to be set on a copy of a slice from a DataFrame.\n",
      "Try using .loc[row_indexer,col_indexer] = value instead\n",
      "\n",
      "See the caveats in the documentation: http://pandas.pydata.org/pandas-docs/stable/indexing.html#indexing-view-versus-copy\n",
      "  \"\"\"\n",
      "C:\\Users\\ps063n\\AppData\\Local\\Continuum\\anaconda3\\lib\\site-packages\\pandas\\core\\frame.py:3144: SettingWithCopyWarning: \n",
      "A value is trying to be set on a copy of a slice from a DataFrame\n",
      "\n",
      "See the caveats in the documentation: http://pandas.pydata.org/pandas-docs/stable/indexing.html#indexing-view-versus-copy\n",
      "  self.loc._setitem_with_indexer((slice(None), indexer), value)\n",
      "C:\\Users\\ps063n\\AppData\\Local\\Continuum\\anaconda3\\lib\\site-packages\\pandas\\core\\frame.py:3116: SettingWithCopyWarning: \n",
      "A value is trying to be set on a copy of a slice from a DataFrame\n",
      "\n",
      "See the caveats in the documentation: http://pandas.pydata.org/pandas-docs/stable/indexing.html#indexing-view-versus-copy\n",
      "  self._setitem_array(key, value)\n"
     ]
    }
   ],
   "source": [
    "x_stand = x[['V22','V30','V25','V26','V23','V20','V17','V16','V11','V1']]\n",
    "x_stand['V11'] = np.log10(x_stand['V11']+5)\n",
    "# x_v1 = x_stand['V1']\n",
    "sc = StandardScaler()\n",
    "x_stand[['V22','V30','V25','V26','V23','V20','V17','V16']] = sc.fit_transform(x_stand[['V22','V30','V25','V26','V23','V20','V17','V16']])\n",
    "# x_stand['V11'] = x_v11\n",
    "# x_stand['V1'] = x_v1"
   ]
  },
  {
   "cell_type": "code",
   "execution_count": 352,
   "metadata": {},
   "outputs": [
    {
     "data": {
      "text/plain": [
       "(100000, 10)"
      ]
     },
     "execution_count": 352,
     "metadata": {},
     "output_type": "execute_result"
    }
   ],
   "source": [
    "x_stand.shape"
   ]
  },
  {
   "cell_type": "code",
   "execution_count": 358,
   "metadata": {
    "collapsed": true
   },
   "outputs": [
    {
     "data": {
      "text/plain": [
       "<matplotlib.axes._subplots.AxesSubplot at 0x1edf0898>"
      ]
     },
     "execution_count": 358,
     "metadata": {},
     "output_type": "execute_result"
    },
    {
     "data": {
      "image/png": "[encoded data removed]",
      "text/plain": [
       "<Figure size 1440x1440 with 1 Axes>"
      ]
     },
     "metadata": {},
     "output_type": "display_data"
    }
   ],
   "source": [
    "x_stand.iloc[:,0].plot.hist()"
   ]
  },
  {
   "cell_type": "code",
   "execution_count": 359,
   "metadata": {},
   "outputs": [],
   "source": [
    "X_train_stand, X_valid_stand, y_train_stand, y_valid_stand = train_test_split(x_stand, y, stratify = y, test_size = 0.2, random_state = 42)"
   ]
  },
  {
   "cell_type": "code",
   "execution_count": 360,
   "metadata": {},
   "outputs": [
    {
     "data": {
      "text/plain": [
       "RandomForestClassifier(bootstrap=True, class_weight=None, criterion='entropy',\n",
       "            max_depth=None, max_features=0.9, max_leaf_nodes=None,\n",
       "            min_impurity_decrease=0.0, min_impurity_split=None,\n",
       "            min_samples_leaf=1, min_samples_split=2,\n",
       "            min_weight_fraction_leaf=0.0, n_estimators=80, n_jobs=-1,\n",
       "            oob_score=False, random_state=123, verbose=0, warm_start=False)"
      ]
     },
     "execution_count": 360,
     "metadata": {},
     "output_type": "execute_result"
    }
   ],
   "source": [
    "rf = RandomForestClassifier(n_jobs=-1, n_estimators=80, max_features=0.9, criterion='entropy', random_state = 123)\n",
    "rf.fit(X_train_stand, y_train_stand)"
   ]
  },
  {
   "cell_type": "code",
   "execution_count": 361,
   "metadata": {},
   "outputs": [],
   "source": [
    "preds = rf.predict(X_valid_stand)"
   ]
  },
  {
   "cell_type": "code",
   "execution_count": 362,
   "metadata": {},
   "outputs": [
    {
     "data": {
      "text/plain": [
       "0.9841"
      ]
     },
     "execution_count": 362,
     "metadata": {},
     "output_type": "execute_result"
    }
   ],
   "source": [
    "accuracy_score(y_valid_stand, preds)"
   ]
  },
  {
   "cell_type": "code",
   "execution_count": 363,
   "metadata": {},
   "outputs": [
    {
     "data": {
      "text/plain": [
       "array([[18765,   128],\n",
       "       [  190,   917]], dtype=int64)"
      ]
     },
     "execution_count": 363,
     "metadata": {},
     "output_type": "execute_result"
    }
   ],
   "source": [
    "confusion_matrix(y_valid_stand, preds)"
   ]
  },
  {
   "cell_type": "code",
   "execution_count": 364,
   "metadata": {
    "scrolled": true
   },
   "outputs": [
    {
     "name": "stdout",
     "output_type": "stream",
     "text": [
      "              precision    recall  f1-score   support\n",
      "\n",
      "           0       0.99      0.99      0.99     18893\n",
      "           1       0.88      0.83      0.85      1107\n",
      "\n",
      "   micro avg       0.98      0.98      0.98     20000\n",
      "   macro avg       0.93      0.91      0.92     20000\n",
      "weighted avg       0.98      0.98      0.98     20000\n",
      "\n"
     ]
    }
   ],
   "source": [
    "print(classification_report(y_valid_stand, preds))"
   ]
  },
  {
   "cell_type": "markdown",
   "metadata": {},
   "source": [
    "### By this time, I had my top 10 variables affecting the target (without oversampling)"
   ]
  },
  {
   "cell_type": "markdown",
   "metadata": {},
   "source": [
    "### logistic regression"
   ]
  },
  {
   "cell_type": "code",
   "execution_count": 374,
   "metadata": {},
   "outputs": [],
   "source": [
    "x_stand = x.copy()\n",
    "sc = StandardScaler()\n",
    "x_stand[['V11', 'V12', 'V13', 'V14', 'V15', 'V16', 'V17', 'V18', 'V19', 'V20',\n",
    "            'V21', 'V22', 'V23', 'V24', 'V25', 'V26', 'V27', 'V28', 'V29', 'V30']] = sc.fit_transform(x_stand[['V11', 'V12', 'V13', 'V14', 'V15', 'V16', 'V17', 'V18', 'V19', 'V20',\n",
    "            'V21', 'V22', 'V23', 'V24', 'V25', 'V26', 'V27', 'V28', 'V29', 'V30']])"
   ]
  },
  {
   "cell_type": "code",
   "execution_count": 375,
   "metadata": {
    "scrolled": true
   },
   "outputs": [
    {
     "data": {
      "text/plain": [
       "(100000, 30)"
      ]
     },
     "execution_count": 375,
     "metadata": {},
     "output_type": "execute_result"
    }
   ],
   "source": [
    "x_stand.shape"
   ]
  },
  {
   "cell_type": "code",
   "execution_count": 376,
   "metadata": {},
   "outputs": [],
   "source": [
    "X_train_stand, X_valid_stand, y_train_stand, y_valid_stand = train_test_split(x_stand, y, stratify = y, test_size = 0.2, random_state = 42)"
   ]
  },
  {
   "cell_type": "code",
   "execution_count": 377,
   "metadata": {},
   "outputs": [
    {
     "name": "stderr",
     "output_type": "stream",
     "text": [
      "C:\\Users\\ps063n\\AppData\\Local\\Continuum\\anaconda3\\lib\\site-packages\\sklearn\\linear_model\\logistic.py:433: FutureWarning: Default solver will be changed to 'lbfgs' in 0.22. Specify a solver to silence this warning.\n",
      "  FutureWarning)\n"
     ]
    },
    {
     "data": {
      "text/plain": [
       "LogisticRegression(C=1.0, class_weight=None, dual=False, fit_intercept=True,\n",
       "          intercept_scaling=1, max_iter=100, multi_class='warn',\n",
       "          n_jobs=None, penalty='l2', random_state=None, solver='warn',\n",
       "          tol=0.0001, verbose=0, warm_start=False)"
      ]
     },
     "execution_count": 377,
     "metadata": {},
     "output_type": "execute_result"
    }
   ],
   "source": [
    "logreg = LogisticRegression()\n",
    "logreg.fit(X_train_stand, y_train_stand)"
   ]
  },
  {
   "cell_type": "code",
   "execution_count": 378,
   "metadata": {},
   "outputs": [],
   "source": [
    "preds = logreg.predict(X_valid_stand)"
   ]
  },
  {
   "cell_type": "code",
   "execution_count": 379,
   "metadata": {},
   "outputs": [
    {
     "data": {
      "text/plain": [
       "0.9755"
      ]
     },
     "execution_count": 379,
     "metadata": {},
     "output_type": "execute_result"
    }
   ],
   "source": [
    "accuracy_score(y_valid_stand, preds)"
   ]
  },
  {
   "cell_type": "code",
   "execution_count": 380,
   "metadata": {},
   "outputs": [
    {
     "data": {
      "text/plain": [
       "array([[18772,   121],\n",
       "       [  369,   738]], dtype=int64)"
      ]
     },
     "execution_count": 380,
     "metadata": {},
     "output_type": "execute_result"
    }
   ],
   "source": [
    "confusion_matrix(y_valid_stand, preds)"
   ]
  },
  {
   "cell_type": "code",
   "execution_count": 381,
   "metadata": {
    "scrolled": true
   },
   "outputs": [
    {
     "name": "stdout",
     "output_type": "stream",
     "text": [
      "              precision    recall  f1-score   support\n",
      "\n",
      "           0       0.98      0.99      0.99     18893\n",
      "           1       0.86      0.67      0.75      1107\n",
      "\n",
      "   micro avg       0.98      0.98      0.98     20000\n",
      "   macro avg       0.92      0.83      0.87     20000\n",
      "weighted avg       0.97      0.98      0.97     20000\n",
      "\n"
     ]
    }
   ],
   "source": [
    "print(classification_report(y_valid_stand, preds))"
   ]
  },
  {
   "cell_type": "markdown",
   "metadata": {},
   "source": [
    "### xgboost classification model"
   ]
  },
  {
   "cell_type": "code",
   "execution_count": 382,
   "metadata": {},
   "outputs": [],
   "source": [
    "X_train, X_valid, y_train, y_valid = train_test_split(x,y, stratify = y, test_size = 0.2, random_state = 42)"
   ]
  },
  {
   "cell_type": "code",
   "execution_count": 474,
   "metadata": {
    "scrolled": true
   },
   "outputs": [],
   "source": [
    "gb_model = xgb.XGBClassifier(n_estimators= 100, colsample_bytree=0.7, max_depth= 5, learning_rate=0.3, random_state = 123)"
   ]
  },
  {
   "cell_type": "code",
   "execution_count": 475,
   "metadata": {},
   "outputs": [
    {
     "data": {
      "text/plain": [
       "XGBClassifier(base_score=0.5, booster='gbtree', colsample_bylevel=1,\n",
       "       colsample_bytree=0.7, gamma=0, learning_rate=0.3, max_delta_step=0,\n",
       "       max_depth=5, min_child_weight=1, missing=None, n_estimators=100,\n",
       "       n_jobs=1, nthread=None, objective='binary:logistic',\n",
       "       random_state=123, reg_alpha=0, reg_lambda=1, scale_pos_weight=1,\n",
       "       seed=None, silent=True, subsample=1)"
      ]
     },
     "execution_count": 475,
     "metadata": {},
     "output_type": "execute_result"
    }
   ],
   "source": [
    "gb_model.fit(X_train, y_train)"
   ]
  },
  {
   "cell_type": "code",
   "execution_count": 476,
   "metadata": {},
   "outputs": [],
   "source": [
    "preds = gb_model.predict(X_valid)"
   ]
  },
  {
   "cell_type": "code",
   "execution_count": 477,
   "metadata": {},
   "outputs": [
    {
     "data": {
      "text/plain": [
       "0.9836"
      ]
     },
     "execution_count": 477,
     "metadata": {},
     "output_type": "execute_result"
    }
   ],
   "source": [
    "accuracy_score(y_valid, preds)"
   ]
  },
  {
   "cell_type": "code",
   "execution_count": 478,
   "metadata": {},
   "outputs": [
    {
     "data": {
      "text/plain": [
       "array([[18780,   113],\n",
       "       [  215,   892]], dtype=int64)"
      ]
     },
     "execution_count": 478,
     "metadata": {},
     "output_type": "execute_result"
    }
   ],
   "source": [
    "confusion_matrix(y_valid, preds)"
   ]
  },
  {
   "cell_type": "code",
   "execution_count": 479,
   "metadata": {
    "scrolled": true
   },
   "outputs": [
    {
     "name": "stdout",
     "output_type": "stream",
     "text": [
      "              precision    recall  f1-score   support\n",
      "\n",
      "           0       0.99      0.99      0.99     18893\n",
      "           1       0.89      0.81      0.84      1107\n",
      "\n",
      "   micro avg       0.98      0.98      0.98     20000\n",
      "   macro avg       0.94      0.90      0.92     20000\n",
      "weighted avg       0.98      0.98      0.98     20000\n",
      "\n"
     ]
    }
   ],
   "source": [
    "print(classification_report(y_valid, preds)) #not better than RF"
   ]
  },
  {
   "cell_type": "markdown",
   "metadata": {},
   "source": [
    "## updated target variable - High valued customers (R >= 50)"
   ]
  },
  {
   "cell_type": "code",
   "execution_count": 134,
   "metadata": {},
   "outputs": [],
   "source": [
    "df_updated = df.copy()"
   ]
  },
  {
   "cell_type": "code",
   "execution_count": 135,
   "metadata": {},
   "outputs": [],
   "source": [
    "df_updated.drop('Target', axis=1, inplace=True)"
   ]
  },
  {
   "cell_type": "code",
   "execution_count": 137,
   "metadata": {},
   "outputs": [
    {
     "data": {
      "text/plain": [
       "count    100000.000000\n",
       "mean          2.115001\n",
       "std          15.225975\n",
       "min           0.000000\n",
       "25%           0.000000\n",
       "50%           0.000000\n",
       "75%           0.000000\n",
       "max         945.037446\n",
       "Name: R, dtype: float64"
      ]
     },
     "execution_count": 137,
     "metadata": {},
     "output_type": "execute_result"
    }
   ],
   "source": [
    "df_updated.R.describe()"
   ]
  },
  {
   "cell_type": "code",
   "execution_count": 138,
   "metadata": {},
   "outputs": [],
   "source": [
    "df_updated['Target_binned'] = np.where(df_updated.R >= 50, 1, 0)"
   ]
  },
  {
   "cell_type": "code",
   "execution_count": 139,
   "metadata": {
    "scrolled": true
   },
   "outputs": [
    {
     "data": {
      "text/plain": [
       "0    98820\n",
       "1     1180\n",
       "Name: Target_binned, dtype: int64"
      ]
     },
     "execution_count": 139,
     "metadata": {},
     "output_type": "execute_result"
    }
   ],
   "source": [
    "df_updated.Target_binned.value_counts()"
   ]
  },
  {
   "cell_type": "code",
   "execution_count": 140,
   "metadata": {},
   "outputs": [
    {
     "data": {
      "text/html": [
       "<div>\n",
       "<style scoped>\n",
       "    .dataframe tbody tr th:only-of-type {\n",
       "        vertical-align: middle;\n",
       "    }\n",
       "\n",
       "    .dataframe tbody tr th {\n",
       "        vertical-align: top;\n",
       "    }\n",
       "\n",
       "    .dataframe thead th {\n",
       "        text-align: right;\n",
       "    }\n",
       "</style>\n",
       "<table border=\"1\" class=\"dataframe\">\n",
       "  <thead>\n",
       "    <tr style=\"text-align: right;\">\n",
       "      <th></th>\n",
       "      <th>V1</th>\n",
       "      <th>V2</th>\n",
       "      <th>V3</th>\n",
       "      <th>V4</th>\n",
       "      <th>V5</th>\n",
       "      <th>V6</th>\n",
       "      <th>V7</th>\n",
       "      <th>V8</th>\n",
       "      <th>V9</th>\n",
       "      <th>V10</th>\n",
       "      <th>...</th>\n",
       "      <th>V23</th>\n",
       "      <th>V24</th>\n",
       "      <th>V25</th>\n",
       "      <th>V26</th>\n",
       "      <th>V27</th>\n",
       "      <th>V28</th>\n",
       "      <th>V29</th>\n",
       "      <th>V30</th>\n",
       "      <th>R</th>\n",
       "      <th>Target_binned</th>\n",
       "    </tr>\n",
       "  </thead>\n",
       "  <tbody>\n",
       "    <tr>\n",
       "      <th>0</th>\n",
       "      <td>1.0</td>\n",
       "      <td>1</td>\n",
       "      <td>0</td>\n",
       "      <td>1</td>\n",
       "      <td>1.0</td>\n",
       "      <td>0</td>\n",
       "      <td>1</td>\n",
       "      <td>1.0</td>\n",
       "      <td>0</td>\n",
       "      <td>1</td>\n",
       "      <td>...</td>\n",
       "      <td>1.332046</td>\n",
       "      <td>-0.383623</td>\n",
       "      <td>58.203268</td>\n",
       "      <td>2.516582</td>\n",
       "      <td>-0.063320</td>\n",
       "      <td>47.187762</td>\n",
       "      <td>0.050729</td>\n",
       "      <td>-3.556211</td>\n",
       "      <td>0.0</td>\n",
       "      <td>0</td>\n",
       "    </tr>\n",
       "    <tr>\n",
       "      <th>1</th>\n",
       "      <td>0.0</td>\n",
       "      <td>1</td>\n",
       "      <td>1</td>\n",
       "      <td>0</td>\n",
       "      <td>1.0</td>\n",
       "      <td>1</td>\n",
       "      <td>0</td>\n",
       "      <td>1.0</td>\n",
       "      <td>1</td>\n",
       "      <td>0</td>\n",
       "      <td>...</td>\n",
       "      <td>1.732377</td>\n",
       "      <td>4.118886</td>\n",
       "      <td>0.029545</td>\n",
       "      <td>3.469034</td>\n",
       "      <td>61.629681</td>\n",
       "      <td>0.058782</td>\n",
       "      <td>56.154209</td>\n",
       "      <td>11.777673</td>\n",
       "      <td>0.0</td>\n",
       "      <td>0</td>\n",
       "    </tr>\n",
       "    <tr>\n",
       "      <th>2</th>\n",
       "      <td>0.0</td>\n",
       "      <td>1</td>\n",
       "      <td>1</td>\n",
       "      <td>0</td>\n",
       "      <td>1.0</td>\n",
       "      <td>1</td>\n",
       "      <td>0</td>\n",
       "      <td>0.0</td>\n",
       "      <td>1</td>\n",
       "      <td>0</td>\n",
       "      <td>...</td>\n",
       "      <td>4.083644</td>\n",
       "      <td>2.500723</td>\n",
       "      <td>0.285155</td>\n",
       "      <td>31.284113</td>\n",
       "      <td>47.512823</td>\n",
       "      <td>0.101458</td>\n",
       "      <td>35.196478</td>\n",
       "      <td>81.645561</td>\n",
       "      <td>0.0</td>\n",
       "      <td>0</td>\n",
       "    </tr>\n",
       "    <tr>\n",
       "      <th>3</th>\n",
       "      <td>0.0</td>\n",
       "      <td>0</td>\n",
       "      <td>0</td>\n",
       "      <td>0</td>\n",
       "      <td>0.0</td>\n",
       "      <td>0</td>\n",
       "      <td>0</td>\n",
       "      <td>0.0</td>\n",
       "      <td>0</td>\n",
       "      <td>0</td>\n",
       "      <td>...</td>\n",
       "      <td>-1.545734</td>\n",
       "      <td>-2.284548</td>\n",
       "      <td>-200.012461</td>\n",
       "      <td>-0.046499</td>\n",
       "      <td>-19.956440</td>\n",
       "      <td>-0.030863</td>\n",
       "      <td>-4.907402</td>\n",
       "      <td>-4.157230</td>\n",
       "      <td>0.0</td>\n",
       "      <td>0</td>\n",
       "    </tr>\n",
       "    <tr>\n",
       "      <th>4</th>\n",
       "      <td>0.0</td>\n",
       "      <td>0</td>\n",
       "      <td>1</td>\n",
       "      <td>0</td>\n",
       "      <td>0.0</td>\n",
       "      <td>1</td>\n",
       "      <td>1</td>\n",
       "      <td>0.0</td>\n",
       "      <td>1</td>\n",
       "      <td>0</td>\n",
       "      <td>...</td>\n",
       "      <td>-0.769063</td>\n",
       "      <td>1.164243</td>\n",
       "      <td>3.792408</td>\n",
       "      <td>-0.003194</td>\n",
       "      <td>10.892589</td>\n",
       "      <td>0.547955</td>\n",
       "      <td>-0.017424</td>\n",
       "      <td>3.889439</td>\n",
       "      <td>0.0</td>\n",
       "      <td>0</td>\n",
       "    </tr>\n",
       "  </tbody>\n",
       "</table>\n",
       "<p>5 rows × 32 columns</p>\n",
       "</div>"
      ],
      "text/plain": [
       "    V1  V2  V3  V4   V5  V6  V7   V8  V9  V10      ...             V23  \\\n",
       "0  1.0   1   0   1  1.0   0   1  1.0   0    1      ...        1.332046   \n",
       "1  0.0   1   1   0  1.0   1   0  1.0   1    0      ...        1.732377   \n",
       "2  0.0   1   1   0  1.0   1   0  0.0   1    0      ...        4.083644   \n",
       "3  0.0   0   0   0  0.0   0   0  0.0   0    0      ...       -1.545734   \n",
       "4  0.0   0   1   0  0.0   1   1  0.0   1    0      ...       -0.769063   \n",
       "\n",
       "        V24         V25        V26        V27        V28        V29  \\\n",
       "0 -0.383623   58.203268   2.516582  -0.063320  47.187762   0.050729   \n",
       "1  4.118886    0.029545   3.469034  61.629681   0.058782  56.154209   \n",
       "2  2.500723    0.285155  31.284113  47.512823   0.101458  35.196478   \n",
       "3 -2.284548 -200.012461  -0.046499 -19.956440  -0.030863  -4.907402   \n",
       "4  1.164243    3.792408  -0.003194  10.892589   0.547955  -0.017424   \n",
       "\n",
       "         V30    R  Target_binned  \n",
       "0  -3.556211  0.0              0  \n",
       "1  11.777673  0.0              0  \n",
       "2  81.645561  0.0              0  \n",
       "3  -4.157230  0.0              0  \n",
       "4   3.889439  0.0              0  \n",
       "\n",
       "[5 rows x 32 columns]"
      ]
     },
     "execution_count": 140,
     "metadata": {},
     "output_type": "execute_result"
    }
   ],
   "source": [
    "df_updated.head()"
   ]
  },
  {
   "cell_type": "code",
   "execution_count": 141,
   "metadata": {},
   "outputs": [],
   "source": [
    "x_updated = df_updated.drop(['R', 'Target_binned'], axis=1)\n",
    "y_updated = df_updated['Target_binned']"
   ]
  },
  {
   "cell_type": "code",
   "execution_count": 142,
   "metadata": {},
   "outputs": [],
   "source": [
    "X_train_updated, X_valid_updated, y_train_updated, y_valid_updated = train_test_split(x_updated, y_updated, stratify = y_updated, test_size = 0.2, random_state = 42)"
   ]
  },
  {
   "cell_type": "code",
   "execution_count": 154,
   "metadata": {},
   "outputs": [
    {
     "data": {
      "text/plain": [
       "RandomForestClassifier(bootstrap=True, class_weight=None, criterion='entropy',\n",
       "            max_depth=None, max_features=0.9, max_leaf_nodes=None,\n",
       "            min_impurity_decrease=0.0, min_impurity_split=None,\n",
       "            min_samples_leaf=1, min_samples_split=2,\n",
       "            min_weight_fraction_leaf=0.0, n_estimators=40, n_jobs=-1,\n",
       "            oob_score=False, random_state=123, verbose=0, warm_start=False)"
      ]
     },
     "execution_count": 154,
     "metadata": {},
     "output_type": "execute_result"
    }
   ],
   "source": [
    "rf = RandomForestClassifier(n_jobs=-1, n_estimators=40, max_features=0.9, criterion='entropy', random_state = 123)\n",
    "rf.fit(X_train_updated, y_train_updated)"
   ]
  },
  {
   "cell_type": "code",
   "execution_count": 155,
   "metadata": {},
   "outputs": [],
   "source": [
    "preds = rf.predict(X_valid_updated)"
   ]
  },
  {
   "cell_type": "code",
   "execution_count": 156,
   "metadata": {},
   "outputs": [
    {
     "data": {
      "text/plain": [
       "0.9937"
      ]
     },
     "execution_count": 156,
     "metadata": {},
     "output_type": "execute_result"
    }
   ],
   "source": [
    "accuracy_score(y_valid_updated, preds)"
   ]
  },
  {
   "cell_type": "code",
   "execution_count": 157,
   "metadata": {},
   "outputs": [
    {
     "data": {
      "text/plain": [
       "array([[19734,    30],\n",
       "       [   96,   140]], dtype=int64)"
      ]
     },
     "execution_count": 157,
     "metadata": {},
     "output_type": "execute_result"
    }
   ],
   "source": [
    "confusion_matrix(y_valid_updated, preds)"
   ]
  },
  {
   "cell_type": "code",
   "execution_count": 158,
   "metadata": {},
   "outputs": [
    {
     "name": "stdout",
     "output_type": "stream",
     "text": [
      "              precision    recall  f1-score   support\n",
      "\n",
      "           0       1.00      1.00      1.00     19764\n",
      "           1       0.82      0.59      0.69       236\n",
      "\n",
      "   micro avg       0.99      0.99      0.99     20000\n",
      "   macro avg       0.91      0.80      0.84     20000\n",
      "weighted avg       0.99      0.99      0.99     20000\n",
      "\n"
     ]
    }
   ],
   "source": [
    "print(classification_report(y_valid_updated, preds))"
   ]
  },
  {
   "cell_type": "code",
   "execution_count": 159,
   "metadata": {
    "collapsed": true
   },
   "outputs": [
    {
     "data": {
      "text/plain": [
       "<matplotlib.axes._subplots.AxesSubplot at 0x3c8f1400>"
      ]
     },
     "execution_count": 159,
     "metadata": {},
     "output_type": "execute_result"
    },
    {
     "data": {
      "image/png": "[encoded data removed]",
      "text/plain": [
       "<Figure size 720x720 with 1 Axes>"
      ]
     },
     "metadata": {},
     "output_type": "display_data"
    }
   ],
   "source": [
    "pd.DataFrame(rf.feature_importances_*100, index=x_updated.columns, \n",
    "             columns=['importance']).sort_values('importance', ascending=True).plot.barh(figsize = (10,10))"
   ]
  },
  {
   "cell_type": "markdown",
   "metadata": {},
   "source": [
    "# handling rare events"
   ]
  },
  {
   "cell_type": "code",
   "execution_count": 171,
   "metadata": {},
   "outputs": [],
   "source": [
    "X_train, X_valid, y_train, y_valid = train_test_split(x, y, stratify = y, test_size = 0.2, random_state = 42)"
   ]
  },
  {
   "cell_type": "code",
   "execution_count": 172,
   "metadata": {
    "scrolled": true
   },
   "outputs": [
    {
     "name": "stdout",
     "output_type": "stream",
     "text": [
      "Before OverSampling, counts of label '1': 4428\n",
      "Before OverSampling, counts of label '0': 75572 \n",
      "\n",
      "After OverSampling, the shape of train_X: (151144, 30)\n",
      "After OverSampling, the shape of train_y: (151144,) \n",
      "\n",
      "After OverSampling, counts of label '1': 75572\n",
      "After OverSampling, counts of label '0': 75572\n"
     ]
    }
   ],
   "source": [
    "print(\"Before OverSampling, counts of label '1': {}\".format(sum(y_train==1)))\n",
    "print(\"Before OverSampling, counts of label '0': {} \\n\".format(sum(y_train==0)))\n",
    "\n",
    "sm = SMOTE(random_state=2)\n",
    "X_train_res, y_train_res = sm.fit_sample(X_train, y_train.ravel())\n",
    "\n",
    "print('After OverSampling, the shape of train_X: {}'.format(X_train_res.shape))\n",
    "print('After OverSampling, the shape of train_y: {} \\n'.format(y_train_res.shape))\n",
    "\n",
    "print(\"After OverSampling, counts of label '1': {}\".format(sum(y_train_res==1)))\n",
    "print(\"After OverSampling, counts of label '0': {}\".format(sum(y_train_res==0)))"
   ]
  },
  {
   "cell_type": "code",
   "execution_count": 205,
   "metadata": {},
   "outputs": [],
   "source": [
    "os_data_X = pd.DataFrame(data=X_train_res, columns=X_train.columns)\n",
    "os_data_y= pd.DataFrame(data=y_train_res, columns=['Target'])"
   ]
  },
  {
   "cell_type": "markdown",
   "metadata": {},
   "source": [
    "### RF with SMOTE"
   ]
  },
  {
   "cell_type": "code",
   "execution_count": 187,
   "metadata": {},
   "outputs": [
    {
     "data": {
      "text/plain": [
       "RandomForestClassifier(bootstrap=True, class_weight=None, criterion='entropy',\n",
       "            max_depth=None, max_features=0.5, max_leaf_nodes=None,\n",
       "            min_impurity_decrease=0.0, min_impurity_split=None,\n",
       "            min_samples_leaf=1, min_samples_split=2,\n",
       "            min_weight_fraction_leaf=0.0, n_estimators=40, n_jobs=-1,\n",
       "            oob_score=False, random_state=123, verbose=0, warm_start=False)"
      ]
     },
     "execution_count": 187,
     "metadata": {},
     "output_type": "execute_result"
    }
   ],
   "source": [
    "rf = RandomForestClassifier(n_jobs=-1, n_estimators=40, max_features=0.5, criterion='entropy', random_state = 123)\n",
    "rf.fit(os_data_X, os_data_y)"
   ]
  },
  {
   "cell_type": "code",
   "execution_count": 188,
   "metadata": {},
   "outputs": [],
   "source": [
    "preds = rf.predict(X_valid)"
   ]
  },
  {
   "cell_type": "code",
   "execution_count": 189,
   "metadata": {},
   "outputs": [
    {
     "data": {
      "text/plain": [
       "0.98125"
      ]
     },
     "execution_count": 189,
     "metadata": {},
     "output_type": "execute_result"
    }
   ],
   "source": [
    "accuracy_score(y_valid, preds)"
   ]
  },
  {
   "cell_type": "code",
   "execution_count": 190,
   "metadata": {},
   "outputs": [
    {
     "data": {
      "text/plain": [
       "array([[18620,   273],\n",
       "       [  102,  1005]], dtype=int64)"
      ]
     },
     "execution_count": 190,
     "metadata": {},
     "output_type": "execute_result"
    }
   ],
   "source": [
    "confusion_matrix(y_valid, preds)"
   ]
  },
  {
   "cell_type": "code",
   "execution_count": 191,
   "metadata": {},
   "outputs": [
    {
     "name": "stdout",
     "output_type": "stream",
     "text": [
      "              precision    recall  f1-score   support\n",
      "\n",
      "           0       0.99      0.99      0.99     18893\n",
      "           1       0.79      0.91      0.84      1107\n",
      "\n",
      "   micro avg       0.98      0.98      0.98     20000\n",
      "   macro avg       0.89      0.95      0.92     20000\n",
      "weighted avg       0.98      0.98      0.98     20000\n",
      "\n"
     ]
    }
   ],
   "source": [
    "print(classification_report(y_valid, preds))"
   ]
  },
  {
   "cell_type": "code",
   "execution_count": 195,
   "metadata": {},
   "outputs": [
    {
     "data": {
      "text/plain": [
       "<matplotlib.axes._subplots.AxesSubplot at 0x3cbaabe0>"
      ]
     },
     "execution_count": 195,
     "metadata": {},
     "output_type": "execute_result"
    },
    {
     "data": {
      "image/png": "[encoded data removed]",
      "text/plain": [
       "<Figure size 720x720 with 1 Axes>"
      ]
     },
     "metadata": {},
     "output_type": "display_data"
    }
   ],
   "source": [
    "pd.DataFrame(rf.feature_importances_*100, index=X_train.columns, \n",
    "             columns=['importance']).sort_values('importance', ascending=True).plot.barh(figsize = (10,10))"
   ]
  },
  {
   "cell_type": "markdown",
   "metadata": {},
   "source": [
    "### RF with SMOTE without V28 (better model)"
   ]
  },
  {
   "cell_type": "code",
   "execution_count": 222,
   "metadata": {
    "scrolled": true
   },
   "outputs": [],
   "source": [
    "os_data_X_v28 = os_data_X.drop(['V28'], axis=1)"
   ]
  },
  {
   "cell_type": "code",
   "execution_count": 213,
   "metadata": {
    "scrolled": true
   },
   "outputs": [
    {
     "name": "stderr",
     "output_type": "stream",
     "text": [
      "C:\\Users\\ps063n\\AppData\\Local\\Continuum\\anaconda3\\lib\\site-packages\\ipykernel_launcher.py:2: DataConversionWarning: A column-vector y was passed when a 1d array was expected. Please change the shape of y to (n_samples,), for example using ravel().\n",
      "  \n"
     ]
    },
    {
     "data": {
      "text/plain": [
       "RandomForestClassifier(bootstrap=True, class_weight=None, criterion='entropy',\n",
       "            max_depth=None, max_features=0.5, max_leaf_nodes=None,\n",
       "            min_impurity_decrease=0.0, min_impurity_split=None,\n",
       "            min_samples_leaf=1, min_samples_split=2,\n",
       "            min_weight_fraction_leaf=0.0, n_estimators=40, n_jobs=-1,\n",
       "            oob_score=False, random_state=123, verbose=0, warm_start=False)"
      ]
     },
     "execution_count": 213,
     "metadata": {},
     "output_type": "execute_result"
    }
   ],
   "source": [
    "rf = RandomForestClassifier(n_jobs=-1, n_estimators=40, max_features=0.5, criterion='entropy', random_state = 123)\n",
    "rf.fit(os_data_X_v28, os_data_y)"
   ]
  },
  {
   "cell_type": "code",
   "execution_count": 215,
   "metadata": {},
   "outputs": [],
   "source": [
    "os_data_X_valid_v28 = X_valid.drop('V28', axis=1)"
   ]
  },
  {
   "cell_type": "code",
   "execution_count": 216,
   "metadata": {},
   "outputs": [],
   "source": [
    "preds = rf.predict(os_data_X_valid_v28)"
   ]
  },
  {
   "cell_type": "code",
   "execution_count": 217,
   "metadata": {},
   "outputs": [
    {
     "data": {
      "text/plain": [
       "0.9824"
      ]
     },
     "execution_count": 217,
     "metadata": {},
     "output_type": "execute_result"
    }
   ],
   "source": [
    "accuracy_score(y_valid, preds)"
   ]
  },
  {
   "cell_type": "code",
   "execution_count": 218,
   "metadata": {},
   "outputs": [
    {
     "data": {
      "text/plain": [
       "array([[18630,   263],\n",
       "       [   89,  1018]], dtype=int64)"
      ]
     },
     "execution_count": 218,
     "metadata": {},
     "output_type": "execute_result"
    }
   ],
   "source": [
    "confusion_matrix(y_valid, preds)"
   ]
  },
  {
   "cell_type": "code",
   "execution_count": 219,
   "metadata": {},
   "outputs": [
    {
     "name": "stdout",
     "output_type": "stream",
     "text": [
      "              precision    recall  f1-score   support\n",
      "\n",
      "           0       1.00      0.99      0.99     18893\n",
      "           1       0.79      0.92      0.85      1107\n",
      "\n",
      "   micro avg       0.98      0.98      0.98     20000\n",
      "   macro avg       0.89      0.95      0.92     20000\n",
      "weighted avg       0.98      0.98      0.98     20000\n",
      "\n"
     ]
    }
   ],
   "source": [
    "print(classification_report(y_valid, preds))"
   ]
  },
  {
   "cell_type": "code",
   "execution_count": 220,
   "metadata": {
    "scrolled": false
   },
   "outputs": [
    {
     "data": {
      "text/plain": [
       "<matplotlib.axes._subplots.AxesSubplot at 0x3d222240>"
      ]
     },
     "execution_count": 220,
     "metadata": {},
     "output_type": "execute_result"
    },
    {
     "data": {
      "image/png": "[encoded data removed]",
      "text/plain": [
       "<Figure size 720x720 with 1 Axes>"
      ]
     },
     "metadata": {},
     "output_type": "display_data"
    }
   ],
   "source": [
    "pd.DataFrame(rf.feature_importances_*100, index=os_data_X_v28.columns, \n",
    "             columns=['importance']).sort_values('importance', ascending=True).plot.barh(figsize = (10,10))"
   ]
  },
  {
   "cell_type": "markdown",
   "metadata": {},
   "source": [
    "### RF with variables having importance > 4% from the best model"
   ]
  },
  {
   "cell_type": "code",
   "execution_count": 243,
   "metadata": {},
   "outputs": [],
   "source": [
    "x_v_imp = os_data_X.drop(['V2', 'V3', 'V4', 'V5', 'V6', 'V7', 'V8', 'V9', 'V10', 'V12', 'V13', 'V14', 'V15',\n",
    "                  'V18', 'V20', 'V21', 'V23', 'V24', 'V28', 'V29'], axis=1)\n",
    "y_v_imp = os_data_y"
   ]
  },
  {
   "cell_type": "code",
   "execution_count": 244,
   "metadata": {
    "scrolled": true
   },
   "outputs": [
    {
     "name": "stderr",
     "output_type": "stream",
     "text": [
      "C:\\Users\\ps063n\\AppData\\Local\\Continuum\\anaconda3\\lib\\site-packages\\ipykernel_launcher.py:2: DataConversionWarning: A column-vector y was passed when a 1d array was expected. Please change the shape of y to (n_samples,), for example using ravel().\n",
      "  \n"
     ]
    },
    {
     "data": {
      "text/plain": [
       "RandomForestClassifier(bootstrap=True, class_weight=None, criterion='entropy',\n",
       "            max_depth=None, max_features=0.9, max_leaf_nodes=None,\n",
       "            min_impurity_decrease=0.0, min_impurity_split=None,\n",
       "            min_samples_leaf=1, min_samples_split=2,\n",
       "            min_weight_fraction_leaf=0.0, n_estimators=80, n_jobs=-1,\n",
       "            oob_score=False, random_state=123, verbose=0, warm_start=False)"
      ]
     },
     "execution_count": 244,
     "metadata": {},
     "output_type": "execute_result"
    }
   ],
   "source": [
    "rf = RandomForestClassifier(n_jobs=-1, n_estimators=80, max_features=0.9, criterion='entropy', random_state = 123)\n",
    "rf.fit(x_v_imp, y_v_imp)"
   ]
  },
  {
   "cell_type": "code",
   "execution_count": 245,
   "metadata": {},
   "outputs": [],
   "source": [
    "x_valid_imp = X_valid.drop(['V2', 'V3', 'V4', 'V5', 'V6', 'V7', 'V8', 'V9', 'V10', 'V12', 'V13', 'V14', 'V15',\n",
    "                  'V18', 'V20', 'V21', 'V23', 'V24', 'V28', 'V29'], axis=1)"
   ]
  },
  {
   "cell_type": "code",
   "execution_count": 246,
   "metadata": {},
   "outputs": [],
   "source": [
    "preds = rf.predict(x_valid_imp)"
   ]
  },
  {
   "cell_type": "code",
   "execution_count": 247,
   "metadata": {},
   "outputs": [
    {
     "data": {
      "text/plain": [
       "0.97855"
      ]
     },
     "execution_count": 247,
     "metadata": {},
     "output_type": "execute_result"
    }
   ],
   "source": [
    "accuracy_score(y_valid, preds)"
   ]
  },
  {
   "cell_type": "code",
   "execution_count": 248,
   "metadata": {},
   "outputs": [
    {
     "data": {
      "text/plain": [
       "array([[18544,   349],\n",
       "       [   80,  1027]], dtype=int64)"
      ]
     },
     "execution_count": 248,
     "metadata": {},
     "output_type": "execute_result"
    }
   ],
   "source": [
    "confusion_matrix(y_valid, preds)"
   ]
  },
  {
   "cell_type": "code",
   "execution_count": 249,
   "metadata": {
    "scrolled": false
   },
   "outputs": [
    {
     "name": "stdout",
     "output_type": "stream",
     "text": [
      "              precision    recall  f1-score   support\n",
      "\n",
      "           0       1.00      0.98      0.99     18893\n",
      "           1       0.75      0.93      0.83      1107\n",
      "\n",
      "   micro avg       0.98      0.98      0.98     20000\n",
      "   macro avg       0.87      0.95      0.91     20000\n",
      "weighted avg       0.98      0.98      0.98     20000\n",
      "\n"
     ]
    }
   ],
   "source": [
    "print(classification_report(y_valid, preds))"
   ]
  },
  {
   "cell_type": "markdown",
   "metadata": {},
   "source": [
    "## Top 10 important variables (after SMOTE)"
   ]
  },
  {
   "cell_type": "code",
   "execution_count": 250,
   "metadata": {
    "scrolled": false
   },
   "outputs": [
    {
     "data": {
      "text/plain": [
       "<matplotlib.axes._subplots.AxesSubplot at 0x43bc78d0>"
      ]
     },
     "execution_count": 250,
     "metadata": {},
     "output_type": "execute_result"
    },
    {
     "data": {
      "image/png": "[encoded data removed]",
      "text/plain": [
       "<Figure size 720x720 with 1 Axes>"
      ]
     },
     "metadata": {},
     "output_type": "display_data"
    }
   ],
   "source": [
    "pd.DataFrame(rf.feature_importances_*100, index=x_v_imp.columns, \n",
    "             columns=['importance']).sort_values('importance', ascending=True).plot.barh(figsize = (10,10))"
   ]
  },
  {
   "cell_type": "markdown",
   "metadata": {},
   "source": [
    "before smote = V22,V30,V25,V26,V11,V16,V17,V1,V20,V23\n",
    "after smote = V22,V30,V25,V26,V11,V16,V17,V1,V27,V19ey"
   ]
  },
  {
   "cell_type": "markdown",
   "metadata": {},
   "source": [
    "sa## logistic with SMOTE (poor model)"
   ]
  },
  {
   "cell_type": "code",
   "execution_count": 203,
   "metadata": {
    "collapsed": true
   },
   "outputs": [
    {
     "name": "stderr",
     "output_type": "stream",
     "text": [
      "C:\\Users\\ps063n\\AppData\\Local\\Continuum\\anaconda3\\lib\\site-packages\\sklearn\\linear_model\\logistic.py:433: FutureWarning: Default solver will be changed to 'lbfgs' in 0.22. Specify a solver to silence this warning.\n",
      "  FutureWarning)\n",
      "C:\\Users\\ps063n\\AppData\\Local\\Continuum\\anaconda3\\lib\\site-packages\\sklearn\\svm\\base.py:922: ConvergenceWarning: Liblinear failed to converge, increase the number of iterations.\n",
      "  \"the number of iterations.\", ConvergenceWarning)\n",
      "C:\\Users\\ps063n\\AppData\\Local\\Continuum\\anaconda3\\lib\\site-packages\\sklearn\\linear_model\\logistic.py:433: FutureWarning: Default solver will be changed to 'lbfgs' in 0.22. Specify a solver to silence this warning.\n",
      "  FutureWarning)\n",
      "C:\\Users\\ps063n\\AppData\\Local\\Continuum\\anaconda3\\lib\\site-packages\\sklearn\\svm\\base.py:922: ConvergenceWarning: Liblinear failed to converge, increase the number of iterations.\n",
      "  \"the number of iterations.\", ConvergenceWarning)\n",
      "C:\\Users\\ps063n\\AppData\\Local\\Continuum\\anaconda3\\lib\\site-packages\\sklearn\\linear_model\\logistic.py:433: FutureWarning: Default solver will be changed to 'lbfgs' in 0.22. Specify a solver to silence this warning.\n",
      "  FutureWarning)\n",
      "C:\\Users\\ps063n\\AppData\\Local\\Continuum\\anaconda3\\lib\\site-packages\\sklearn\\svm\\base.py:922: ConvergenceWarning: Liblinear failed to converge, increase the number of iterations.\n",
      "  \"the number of iterations.\", ConvergenceWarning)\n",
      "C:\\Users\\ps063n\\AppData\\Local\\Continuum\\anaconda3\\lib\\site-packages\\sklearn\\linear_model\\logistic.py:433: FutureWarning: Default solver will be changed to 'lbfgs' in 0.22. Specify a solver to silence this warning.\n",
      "  FutureWarning)\n",
      "C:\\Users\\ps063n\\AppData\\Local\\Continuum\\anaconda3\\lib\\site-packages\\sklearn\\svm\\base.py:922: ConvergenceWarning: Liblinear failed to converge, increase the number of iterations.\n",
      "  \"the number of iterations.\", ConvergenceWarning)\n",
      "C:\\Users\\ps063n\\AppData\\Local\\Continuum\\anaconda3\\lib\\site-packages\\sklearn\\linear_model\\logistic.py:433: FutureWarning: Default solver will be changed to 'lbfgs' in 0.22. Specify a solver to silence this warning.\n",
      "  FutureWarning)\n",
      "C:\\Users\\ps063n\\AppData\\Local\\Continuum\\anaconda3\\lib\\site-packages\\sklearn\\svm\\base.py:922: ConvergenceWarning: Liblinear failed to converge, increase the number of iterations.\n",
      "  \"the number of iterations.\", ConvergenceWarning)\n",
      "C:\\Users\\ps063n\\AppData\\Local\\Continuum\\anaconda3\\lib\\site-packages\\sklearn\\linear_model\\logistic.py:433: FutureWarning: Default solver will be changed to 'lbfgs' in 0.22. Specify a solver to silence this warning.\n",
      "  FutureWarning)\n",
      "C:\\Users\\ps063n\\AppData\\Local\\Continuum\\anaconda3\\lib\\site-packages\\sklearn\\linear_model\\logistic.py:433: FutureWarning: Default solver will be changed to 'lbfgs' in 0.22. Specify a solver to silence this warning.\n",
      "  FutureWarning)\n",
      "C:\\Users\\ps063n\\AppData\\Local\\Continuum\\anaconda3\\lib\\site-packages\\sklearn\\linear_model\\logistic.py:433: FutureWarning: Default solver will be changed to 'lbfgs' in 0.22. Specify a solver to silence this warning.\n",
      "  FutureWarning)\n",
      "C:\\Users\\ps063n\\AppData\\Local\\Continuum\\anaconda3\\lib\\site-packages\\sklearn\\linear_model\\logistic.py:433: FutureWarning: Default solver will be changed to 'lbfgs' in 0.22. Specify a solver to silence this warning.\n",
      "  FutureWarning)\n",
      "C:\\Users\\ps063n\\AppData\\Local\\Continuum\\anaconda3\\lib\\site-packages\\sklearn\\linear_model\\logistic.py:433: FutureWarning: Default solver will be changed to 'lbfgs' in 0.22. Specify a solver to silence this warning.\n",
      "  FutureWarning)\n",
      "C:\\Users\\ps063n\\AppData\\Local\\Continuum\\anaconda3\\lib\\site-packages\\sklearn\\linear_model\\logistic.py:433: FutureWarning: Default solver will be changed to 'lbfgs' in 0.22. Specify a solver to silence this warning.\n",
      "  FutureWarning)\n"
     ]
    },
    {
     "name": "stdout",
     "output_type": "stream",
     "text": [
      "[ True  True  True  True  True  True  True  True  True  True  True False\n",
      " False False False  True  True  True  True  True  True  True  True  True\n",
      " False False False False False False]\n",
      "[ 1  1  1  1  1  1  1  1  1  1  1  2 11 10  7  1  1  1  1  1  1  1  1  1\n",
      "  5  6  8  4  9  3]\n"
     ]
    }
   ],
   "source": [
    "logreg = LogisticRegression()\n",
    "rfe = RFE(logreg, 20)\n",
    "rfe = rfe.fit(os_data_X, os_data_y.values.ravel())\n",
    "print(rfe.support_)\n",
    "print(rfe.ranking_)"
   ]
  },
  {
   "cell_type": "code",
   "execution_count": 206,
   "metadata": {},
   "outputs": [
    {
     "data": {
      "text/plain": [
       "Index(['V1', 'V2', 'V3', 'V4', 'V5', 'V6', 'V7', 'V8', 'V9', 'V10', 'V11',\n",
       "       'V12', 'V13', 'V14', 'V15', 'V16', 'V17', 'V18', 'V19', 'V20', 'V21',\n",
       "       'V22', 'V23', 'V24', 'V25', 'V26', 'V27', 'V28', 'V29', 'V30'],\n",
       "      dtype='object')"
      ]
     },
     "execution_count": 206,
     "metadata": {},
     "output_type": "execute_result"
    }
   ],
   "source": [
    "X_train.columns"
   ]
  },
  {
   "cell_type": "code",
   "execution_count": 209,
   "metadata": {},
   "outputs": [],
   "source": [
    "cols=['V1', 'V2', 'V3', 'V4', 'V5', 'V6', 'V7', 'V8', 'V9', 'V10', 'V11', 'V16', 'V17', 'V18', 'V19', 'V20', 'V21',\n",
    "       'V22', 'V23', 'V24', 'V30'] \n",
    "X=os_data_X[cols]\n",
    "y=os_data_y['Target']"
   ]
  },
  {
   "cell_type": "code",
   "execution_count": 210,
   "metadata": {
    "collapsed": true
   },
   "outputs": [
    {
     "name": "stdout",
     "output_type": "stream",
     "text": [
      "Optimization terminated successfully.\n",
      "         Current function value: 0.184668\n",
      "         Iterations 9\n",
      "                          Results: Logit\n",
      "==================================================================\n",
      "Model:              Logit            Pseudo R-squared: 0.734      \n",
      "Dependent Variable: Target           AIC:              55862.9263 \n",
      "Date:               2019-04-12 13:15 BIC:              56061.4461 \n",
      "No. Observations:   151144           Log-Likelihood:   -27911.    \n",
      "Df Model:           19               LL-Null:          -1.0477e+05\n",
      "Df Residuals:       151124           LLR p-value:      0.0000     \n",
      "Converged:          1.0000           Scale:            1.0000     \n",
      "No. Iterations:     9.0000                                        \n",
      "--------------------------------------------------------------------\n",
      "           Coef.    Std.Err.      z       P>|z|     [0.025    0.975]\n",
      "--------------------------------------------------------------------\n",
      "V1        -3.2460     0.0555   -58.4357   0.0000   -3.3549   -3.1371\n",
      "V2        -1.6915     0.0624   -27.1209   0.0000   -1.8137   -1.5692\n",
      "V3        -4.7742     0.3227   -14.7940   0.0000   -5.4067   -4.1417\n",
      "V4        -0.9529     0.1254    -7.5982   0.0000   -1.1986   -0.7071\n",
      "V5         0.4560     0.0493     9.2505   0.0000    0.3594    0.5526\n",
      "V6        -1.6326     0.1056   -15.4529   0.0000   -1.8397   -1.4255\n",
      "V7         0.0204     0.1191     0.1713   0.8640   -0.2131    0.2539\n",
      "V8        -1.4725     0.0475   -30.9913   0.0000   -1.5656   -1.3793\n",
      "V9         2.0211     0.3189     6.3379   0.0000    1.3961    2.6461\n",
      "V10        0.3111     0.0731     4.2569   0.0000    0.1679    0.4543\n",
      "V11       -0.0296     0.0006   -53.3854   0.0000   -0.0306   -0.0285\n",
      "V16        0.4702     0.0100    46.9601   0.0000    0.4505    0.4898\n",
      "V17        0.3602     0.0127    28.2668   0.0000    0.3352    0.3852\n",
      "V18       -0.1402     0.0108   -13.0397   0.0000   -0.1613   -0.1191\n",
      "V19        0.5976     0.0113    52.9080   0.0000    0.5754    0.6197\n",
      "V20        0.0417     0.0219     1.9026   0.0571   -0.0013    0.0847\n",
      "V21       -0.1777     0.0112   -15.8873   0.0000   -0.1996   -0.1558\n",
      "V22        0.9135     0.0100    91.2707   0.0000    0.8939    0.9331\n",
      "V23        0.2020     0.0196    10.2959   0.0000    0.1636    0.2405\n",
      "V24       -0.0346     0.0089    -3.8963   0.0001   -0.0521   -0.0172\n",
      "==================================================================\n",
      "\n"
     ]
    }
   ],
   "source": [
    "logit_model=sm.Logit(y,X)\n",
    "result=logit_model.fit()\n",
    "print(result.summary2())"
   ]
  },
  {
   "cell_type": "code",
   "execution_count": 194,
   "metadata": {
    "scrolled": true
   },
   "outputs": [
    {
     "name": "stderr",
     "output_type": "stream",
     "text": [
      "C:\\Users\\ps063n\\AppData\\Local\\Continuum\\anaconda3\\lib\\site-packages\\sklearn\\linear_model\\logistic.py:433: FutureWarning: Default solver will be changed to 'lbfgs' in 0.22. Specify a solver to silence this warning.\n",
      "  FutureWarning)\n"
     ]
    },
    {
     "name": "stdout",
     "output_type": "stream",
     "text": [
      "[LibLinear]"
     ]
    },
    {
     "data": {
      "text/plain": [
       "LogisticRegression(C=3, class_weight=None, dual=False, fit_intercept=True,\n",
       "          intercept_scaling=1, max_iter=100, multi_class='warn',\n",
       "          n_jobs=None, penalty='l1', random_state=None, solver='warn',\n",
       "          tol=0.0001, verbose=2, warm_start=False)"
      ]
     },
     "execution_count": 194,
     "metadata": {},
     "output_type": "execute_result"
    }
   ],
   "source": [
    "lr1 = LogisticRegression(C=3,penalty='l1', verbose=2)\n",
    "lr1.fit(X_train_res, y_train_res.ravel())"
   ]
  },
  {
   "cell_type": "code",
   "execution_count": 197,
   "metadata": {},
   "outputs": [],
   "source": [
    "preds = lr1.predict(X_valid)"
   ]
  },
  {
   "cell_type": "code",
   "execution_count": 198,
   "metadata": {},
   "outputs": [
    {
     "data": {
      "text/plain": [
       "0.9404"
      ]
     },
     "execution_count": 198,
     "metadata": {},
     "output_type": "execute_result"
    }
   ],
   "source": [
    "accuracy_score(y_valid, preds)"
   ]
  },
  {
   "cell_type": "code",
   "execution_count": 199,
   "metadata": {},
   "outputs": [
    {
     "data": {
      "text/plain": [
       "array([[17757,  1136],\n",
       "       [   56,  1051]], dtype=int64)"
      ]
     },
     "execution_count": 199,
     "metadata": {},
     "output_type": "execute_result"
    }
   ],
   "source": [
    "confusion_matrix(y_valid, preds)"
   ]
  },
  {
   "cell_type": "code",
   "execution_count": 200,
   "metadata": {},
   "outputs": [
    {
     "name": "stdout",
     "output_type": "stream",
     "text": [
      "              precision    recall  f1-score   support\n",
      "\n",
      "           0       1.00      0.94      0.97     18893\n",
      "           1       0.48      0.95      0.64      1107\n",
      "\n",
      "   micro avg       0.94      0.94      0.94     20000\n",
      "   macro avg       0.74      0.94      0.80     20000\n",
      "weighted avg       0.97      0.94      0.95     20000\n",
      "\n"
     ]
    }
   ],
   "source": [
    "print(classification_report(y_valid, preds))"
   ]
  },
  {
   "cell_type": "code",
   "execution_count": 195,
   "metadata": {
    "collapsed": true
   },
   "outputs": [
    {
     "data": {
      "text/plain": [
       "<matplotlib.axes._subplots.AxesSubplot at 0x3cbaabe0>"
      ]
     },
     "execution_count": 195,
     "metadata": {},
     "output_type": "execute_result"
    },
    {
     "data": {
      "image/png": "[encoded data removed]",
      "text/plain": [
       "<Figure size 720x720 with 1 Axes>"
      ]
     },
     "metadata": {},
     "output_type": "display_data"
    }
   ],
   "source": [
    "pd.DataFrame(rf.feature_importances_*100, index=X_train.columns, \n",
    "             columns=['importance']).sort_values('importance', ascending=True).plot.barh(figsize = (10,10))"
   ]
  },
  {
   "cell_type": "markdown",
   "metadata": {},
   "source": [
    "## Final results"
   ]
  },
  {
   "cell_type": "code",
   "execution_count": 259,
   "metadata": {},
   "outputs": [],
   "source": [
    "x_final = x[['V22','V30','V25','V26','V11','V16','V17','V1','V20','V23','V27','V19']]\n",
    "y_final = df['Target']"
   ]
  },
  {
   "cell_type": "code",
   "execution_count": 260,
   "metadata": {},
   "outputs": [],
   "source": [
    "X_train_final, X_valid_final, y_train_final, y_valid_final = train_test_split(x_final, y_final, stratify = y_final, test_size = 0.2, random_state = 42)"
   ]
  },
  {
   "cell_type": "code",
   "execution_count": 261,
   "metadata": {
    "collapsed": true
   },
   "outputs": [
    {
     "name": "stdout",
     "output_type": "stream",
     "text": [
      "Optimization terminated successfully.\n",
      "         Current function value: 0.253057\n",
      "         Iterations 11\n",
      "                         Results: Logit\n",
      "=================================================================\n",
      "Model:              Logit            Pseudo R-squared: -0.183    \n",
      "Dependent Variable: Target           AIC:              50635.4567\n",
      "Date:               2019-04-12 14:54 BIC:              50749.6118\n",
      "No. Observations:   100000           Log-Likelihood:   -25306.   \n",
      "Df Model:           11               LL-Null:          -21398.   \n",
      "Df Residuals:       99988            LLR p-value:      1.0000    \n",
      "Converged:          1.0000           Scale:            1.0000    \n",
      "No. Iterations:     11.0000                                      \n",
      "-------------------------------------------------------------------\n",
      "          Coef.    Std.Err.      z       P>|z|     [0.025    0.975]\n",
      "-------------------------------------------------------------------\n",
      "V22       0.5846     0.0129    45.2916   0.0000    0.5593    0.6099\n",
      "V30      -0.0022     0.0001   -27.4781   0.0000   -0.0024   -0.0021\n",
      "V25      -0.0017     0.0002   -10.9704   0.0000   -0.0020   -0.0014\n",
      "V26       0.0033     0.0006     5.2739   0.0000    0.0021    0.0045\n",
      "V11      -0.3431     0.0050   -68.6872   0.0000   -0.3529   -0.3334\n",
      "V16       0.2569     0.0106    24.2452   0.0000    0.2361    0.2776\n",
      "V17       0.5072     0.0152    33.2710   0.0000    0.4773    0.5371\n",
      "V1       -4.8015     0.0492   -97.6175   0.0000   -4.8980   -4.7051\n",
      "V20       0.1750     0.0219     7.9819   0.0000    0.1320    0.2180\n",
      "V23       0.1109     0.0202     5.4845   0.0000    0.0713    0.1505\n",
      "V27      -0.0037     0.0002   -24.4801   0.0000   -0.0040   -0.0034\n",
      "V19       0.2409     0.0118    20.3567   0.0000    0.2177    0.2641\n",
      "=================================================================\n",
      "\n"
     ]
    }
   ],
   "source": [
    "logit_model=sm.Logit(y_final,x_final)\n",
    "result=logit_model.fit()"
   ]
  },
  {
   "cell_type": "markdown",
   "metadata": {},
   "source": [
    "### Also, ran a logistic regression model in SAS Enterprise Miner to get the odds ratio of the variables in order to explain the results to the business"
   ]
  }
 ],
 "metadata": {
  "kernelspec": {
   "display_name": "Python 3",
   "language": "python",
   "name": "python3"
  },
  "language_info": {
   "codemirror_mode": {
    "name": "ipython",
    "version": 3
   },
   "file_extension": ".py",
   "mimetype": "text/x-python",
   "name": "python",
   "nbconvert_exporter": "python",
   "pygments_lexer": "ipython3",
   "version": "3.7.0"
  }
 },
 "nbformat": 4,
 "nbformat_minor": 2
}
